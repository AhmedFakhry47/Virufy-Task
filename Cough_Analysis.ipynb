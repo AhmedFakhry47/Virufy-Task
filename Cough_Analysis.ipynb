{
  "nbformat": 4,
  "nbformat_minor": 0,
  "metadata": {
    "colab": {
      "name": "Cough Analysis.ipynb",
      "provenance": [],
      "collapsed_sections": [],
      "toc_visible": true
    },
    "kernelspec": {
      "name": "python3",
      "display_name": "Python 3"
    },
    "accelerator": "GPU"
  },
  "cells": [
    {
      "cell_type": "code",
      "metadata": {
        "id": "F3UkKH99TMRm"
      },
      "source": [
        "import tensorflow as tf\n",
        "from tensorflow import keras\n",
        "from tensorflow.keras import layers\n",
        "from keras import Sequential,Model\n",
        "from keras.layers import Concatenate,Activation, Dense, Dropout, Conv2D, Flatten, MaxPooling2D, GlobalMaxPooling2D, GlobalAveragePooling1D, AveragePooling2D, Input, Add, BatchNormalization\n",
        "#from keras.preprocessing.image import ImageDataGenerator\n",
        "#from tensorflow.keras.optimizers import Adam\n",
        "from keras.utils import np_utils\n",
        "from tqdm import tqdm\n",
        "import pandas as pd\n",
        "import numpy as np\n",
        "import librosa \n",
        "import librosa.display\n",
        "import pylab\n",
        "import cv2\n",
        "import os"
      ],
      "execution_count": 472,
      "outputs": []
    },
    {
      "cell_type": "code",
      "metadata": {
        "id": "qm8ukq8kLR5s",
        "outputId": "b7da8605-d5ac-4b6e-8546-bfbd8dd0844b",
        "colab": {
          "base_uri": "https://localhost:8080/"
        }
      },
      "source": [
        "!wget https://zenodo.org/record/4048312/files/public_dataset.zip?download=1"
      ],
      "execution_count": 2,
      "outputs": [
        {
          "output_type": "stream",
          "text": [
            "--2020-10-29 17:50:29--  https://zenodo.org/record/4048312/files/public_dataset.zip?download=1\n",
            "Resolving zenodo.org (zenodo.org)... 137.138.76.77\n",
            "Connecting to zenodo.org (zenodo.org)|137.138.76.77|:443... connected.\n",
            "HTTP request sent, awaiting response... 200 OK\n",
            "Length: 951442487 (907M) [application/octet-stream]\n",
            "Saving to: ‘public_dataset.zip?download=1’\n",
            "\n",
            "public_dataset.zip? 100%[===================>] 907.37M  7.36MB/s    in 2m 20s  \n",
            "\n",
            "2020-10-29 17:52:51 (6.48 MB/s) - ‘public_dataset.zip?download=1’ saved [951442487/951442487]\n",
            "\n"
          ],
          "name": "stdout"
        }
      ]
    },
    {
      "cell_type": "code",
      "metadata": {
        "id": "l8mhG-6ZQiRw"
      },
      "source": [
        "!unzip public_dataset.zip"
      ],
      "execution_count": null,
      "outputs": []
    },
    {
      "cell_type": "code",
      "metadata": {
        "id": "aXW4nUhERPcK"
      },
      "source": [
        "!ls public_dataset "
      ],
      "execution_count": null,
      "outputs": []
    },
    {
      "cell_type": "code",
      "metadata": {
        "id": "6xZ8cEIMTVzN"
      },
      "source": [
        "datadir  = '/content/public_dataset/'\n",
        "custpath = '/content/custom_dataset/'"
      ],
      "execution_count": 7,
      "outputs": []
    },
    {
      "cell_type": "markdown",
      "metadata": {
        "id": "UDE__F6U5WMQ"
      },
      "source": [
        "# Discovering The Dataset"
      ]
    },
    {
      "cell_type": "code",
      "metadata": {
        "id": "66ZpVdHNRgG-",
        "outputId": "39e527b3-8308-4336-aa59-403fa657296d",
        "colab": {
          "base_uri": "https://localhost:8080/",
          "height": 313
        }
      },
      "source": [
        "metadata = pd.read_csv(os.path.join(datadir,'metadata_compiled.csv'),header=0)\n",
        "metadata.head()"
      ],
      "execution_count": 8,
      "outputs": [
        {
          "output_type": "execute_result",
          "data": {
            "text/html": [
              "<div>\n",
              "<style scoped>\n",
              "    .dataframe tbody tr th:only-of-type {\n",
              "        vertical-align: middle;\n",
              "    }\n",
              "\n",
              "    .dataframe tbody tr th {\n",
              "        vertical-align: top;\n",
              "    }\n",
              "\n",
              "    .dataframe thead th {\n",
              "        text-align: right;\n",
              "    }\n",
              "</style>\n",
              "<table border=\"1\" class=\"dataframe\">\n",
              "  <thead>\n",
              "    <tr style=\"text-align: right;\">\n",
              "      <th></th>\n",
              "      <th>uuid</th>\n",
              "      <th>datetime</th>\n",
              "      <th>cough_detected</th>\n",
              "      <th>latitude</th>\n",
              "      <th>longitude</th>\n",
              "      <th>age</th>\n",
              "      <th>gender</th>\n",
              "      <th>respiratory_condition</th>\n",
              "      <th>fever_muscle_pain</th>\n",
              "      <th>status</th>\n",
              "      <th>quality_1</th>\n",
              "      <th>cough_type_1</th>\n",
              "      <th>dyspnea_1</th>\n",
              "      <th>wheezing_1</th>\n",
              "      <th>stridor_1</th>\n",
              "      <th>choking_1</th>\n",
              "      <th>congestion_1</th>\n",
              "      <th>nothing_1</th>\n",
              "      <th>diagnosis_1</th>\n",
              "      <th>severity_1</th>\n",
              "      <th>quality_2</th>\n",
              "      <th>cough_type_2</th>\n",
              "      <th>dyspnea_2</th>\n",
              "      <th>wheezing_2</th>\n",
              "      <th>stridor_2</th>\n",
              "      <th>choking_2</th>\n",
              "      <th>congestion_2</th>\n",
              "      <th>nothing_2</th>\n",
              "      <th>diagnosis_2</th>\n",
              "      <th>severity_2</th>\n",
              "      <th>quality_3</th>\n",
              "      <th>dyspnea_3</th>\n",
              "      <th>wheezing_3</th>\n",
              "      <th>stridor_3</th>\n",
              "      <th>choking_3</th>\n",
              "      <th>congestion_3</th>\n",
              "      <th>nothing_3</th>\n",
              "      <th>cough_type_3</th>\n",
              "      <th>diagnosis_3</th>\n",
              "      <th>severity_3</th>\n",
              "    </tr>\n",
              "  </thead>\n",
              "  <tbody>\n",
              "    <tr>\n",
              "      <th>0</th>\n",
              "      <td>00039425-7f3a-42aa-ac13-834aaa2b6b92</td>\n",
              "      <td>2020-04-13T21:30:59.801831+00:00</td>\n",
              "      <td>0.9609</td>\n",
              "      <td>31.3</td>\n",
              "      <td>34.8</td>\n",
              "      <td>15.0</td>\n",
              "      <td>male</td>\n",
              "      <td>False</td>\n",
              "      <td>False</td>\n",
              "      <td>healthy</td>\n",
              "      <td>NaN</td>\n",
              "      <td>NaN</td>\n",
              "      <td>NaN</td>\n",
              "      <td>NaN</td>\n",
              "      <td>NaN</td>\n",
              "      <td>NaN</td>\n",
              "      <td>NaN</td>\n",
              "      <td>NaN</td>\n",
              "      <td>NaN</td>\n",
              "      <td>NaN</td>\n",
              "      <td>NaN</td>\n",
              "      <td>NaN</td>\n",
              "      <td>NaN</td>\n",
              "      <td>NaN</td>\n",
              "      <td>NaN</td>\n",
              "      <td>NaN</td>\n",
              "      <td>NaN</td>\n",
              "      <td>NaN</td>\n",
              "      <td>NaN</td>\n",
              "      <td>NaN</td>\n",
              "      <td>NaN</td>\n",
              "      <td>NaN</td>\n",
              "      <td>NaN</td>\n",
              "      <td>NaN</td>\n",
              "      <td>NaN</td>\n",
              "      <td>NaN</td>\n",
              "      <td>NaN</td>\n",
              "      <td>NaN</td>\n",
              "      <td>NaN</td>\n",
              "      <td>NaN</td>\n",
              "    </tr>\n",
              "    <tr>\n",
              "      <th>1</th>\n",
              "      <td>0009eb28-d8be-4dc1-92bb-907e53bc5c7a</td>\n",
              "      <td>2020-04-12T04:02:18.159383+00:00</td>\n",
              "      <td>0.9301</td>\n",
              "      <td>40.0</td>\n",
              "      <td>-75.1</td>\n",
              "      <td>34.0</td>\n",
              "      <td>male</td>\n",
              "      <td>True</td>\n",
              "      <td>False</td>\n",
              "      <td>healthy</td>\n",
              "      <td>NaN</td>\n",
              "      <td>NaN</td>\n",
              "      <td>NaN</td>\n",
              "      <td>NaN</td>\n",
              "      <td>NaN</td>\n",
              "      <td>NaN</td>\n",
              "      <td>NaN</td>\n",
              "      <td>NaN</td>\n",
              "      <td>NaN</td>\n",
              "      <td>NaN</td>\n",
              "      <td>NaN</td>\n",
              "      <td>NaN</td>\n",
              "      <td>NaN</td>\n",
              "      <td>NaN</td>\n",
              "      <td>NaN</td>\n",
              "      <td>NaN</td>\n",
              "      <td>NaN</td>\n",
              "      <td>NaN</td>\n",
              "      <td>NaN</td>\n",
              "      <td>NaN</td>\n",
              "      <td>NaN</td>\n",
              "      <td>NaN</td>\n",
              "      <td>NaN</td>\n",
              "      <td>NaN</td>\n",
              "      <td>NaN</td>\n",
              "      <td>NaN</td>\n",
              "      <td>NaN</td>\n",
              "      <td>NaN</td>\n",
              "      <td>NaN</td>\n",
              "      <td>NaN</td>\n",
              "    </tr>\n",
              "    <tr>\n",
              "      <th>2</th>\n",
              "      <td>0012c608-33d0-4ef7-bde3-75a0b1a0024e</td>\n",
              "      <td>2020-04-15T01:03:59.029326+00:00</td>\n",
              "      <td>0.0482</td>\n",
              "      <td>-16.5</td>\n",
              "      <td>-71.5</td>\n",
              "      <td>NaN</td>\n",
              "      <td>NaN</td>\n",
              "      <td>NaN</td>\n",
              "      <td>NaN</td>\n",
              "      <td>NaN</td>\n",
              "      <td>NaN</td>\n",
              "      <td>NaN</td>\n",
              "      <td>NaN</td>\n",
              "      <td>NaN</td>\n",
              "      <td>NaN</td>\n",
              "      <td>NaN</td>\n",
              "      <td>NaN</td>\n",
              "      <td>NaN</td>\n",
              "      <td>NaN</td>\n",
              "      <td>NaN</td>\n",
              "      <td>NaN</td>\n",
              "      <td>NaN</td>\n",
              "      <td>NaN</td>\n",
              "      <td>NaN</td>\n",
              "      <td>NaN</td>\n",
              "      <td>NaN</td>\n",
              "      <td>NaN</td>\n",
              "      <td>NaN</td>\n",
              "      <td>NaN</td>\n",
              "      <td>NaN</td>\n",
              "      <td>NaN</td>\n",
              "      <td>NaN</td>\n",
              "      <td>NaN</td>\n",
              "      <td>NaN</td>\n",
              "      <td>NaN</td>\n",
              "      <td>NaN</td>\n",
              "      <td>NaN</td>\n",
              "      <td>NaN</td>\n",
              "      <td>NaN</td>\n",
              "      <td>NaN</td>\n",
              "    </tr>\n",
              "    <tr>\n",
              "      <th>3</th>\n",
              "      <td>001328dc-ea5d-4847-9ccf-c5aa2a3f2d0f</td>\n",
              "      <td>2020-04-13T22:23:06.997578+00:00</td>\n",
              "      <td>0.9968</td>\n",
              "      <td>NaN</td>\n",
              "      <td>NaN</td>\n",
              "      <td>21.0</td>\n",
              "      <td>male</td>\n",
              "      <td>False</td>\n",
              "      <td>False</td>\n",
              "      <td>healthy</td>\n",
              "      <td>NaN</td>\n",
              "      <td>NaN</td>\n",
              "      <td>NaN</td>\n",
              "      <td>NaN</td>\n",
              "      <td>NaN</td>\n",
              "      <td>NaN</td>\n",
              "      <td>NaN</td>\n",
              "      <td>NaN</td>\n",
              "      <td>NaN</td>\n",
              "      <td>NaN</td>\n",
              "      <td>NaN</td>\n",
              "      <td>NaN</td>\n",
              "      <td>NaN</td>\n",
              "      <td>NaN</td>\n",
              "      <td>NaN</td>\n",
              "      <td>NaN</td>\n",
              "      <td>NaN</td>\n",
              "      <td>NaN</td>\n",
              "      <td>NaN</td>\n",
              "      <td>NaN</td>\n",
              "      <td>NaN</td>\n",
              "      <td>NaN</td>\n",
              "      <td>NaN</td>\n",
              "      <td>NaN</td>\n",
              "      <td>NaN</td>\n",
              "      <td>NaN</td>\n",
              "      <td>NaN</td>\n",
              "      <td>NaN</td>\n",
              "      <td>NaN</td>\n",
              "      <td>NaN</td>\n",
              "    </tr>\n",
              "    <tr>\n",
              "      <th>4</th>\n",
              "      <td>001c85a8-cc4d-4921-9297-848be52d4715</td>\n",
              "      <td>2020-04-17T15:24:35.822355+00:00</td>\n",
              "      <td>0.0735</td>\n",
              "      <td>40.6</td>\n",
              "      <td>-3.6</td>\n",
              "      <td>NaN</td>\n",
              "      <td>NaN</td>\n",
              "      <td>NaN</td>\n",
              "      <td>NaN</td>\n",
              "      <td>NaN</td>\n",
              "      <td>NaN</td>\n",
              "      <td>NaN</td>\n",
              "      <td>NaN</td>\n",
              "      <td>NaN</td>\n",
              "      <td>NaN</td>\n",
              "      <td>NaN</td>\n",
              "      <td>NaN</td>\n",
              "      <td>NaN</td>\n",
              "      <td>NaN</td>\n",
              "      <td>NaN</td>\n",
              "      <td>NaN</td>\n",
              "      <td>NaN</td>\n",
              "      <td>NaN</td>\n",
              "      <td>NaN</td>\n",
              "      <td>NaN</td>\n",
              "      <td>NaN</td>\n",
              "      <td>NaN</td>\n",
              "      <td>NaN</td>\n",
              "      <td>NaN</td>\n",
              "      <td>NaN</td>\n",
              "      <td>NaN</td>\n",
              "      <td>NaN</td>\n",
              "      <td>NaN</td>\n",
              "      <td>NaN</td>\n",
              "      <td>NaN</td>\n",
              "      <td>NaN</td>\n",
              "      <td>NaN</td>\n",
              "      <td>NaN</td>\n",
              "      <td>NaN</td>\n",
              "      <td>NaN</td>\n",
              "    </tr>\n",
              "  </tbody>\n",
              "</table>\n",
              "</div>"
            ],
            "text/plain": [
              "                                   uuid  ... severity_3\n",
              "0  00039425-7f3a-42aa-ac13-834aaa2b6b92  ...        NaN\n",
              "1  0009eb28-d8be-4dc1-92bb-907e53bc5c7a  ...        NaN\n",
              "2  0012c608-33d0-4ef7-bde3-75a0b1a0024e  ...        NaN\n",
              "3  001328dc-ea5d-4847-9ccf-c5aa2a3f2d0f  ...        NaN\n",
              "4  001c85a8-cc4d-4921-9297-848be52d4715  ...        NaN\n",
              "\n",
              "[5 rows x 40 columns]"
            ]
          },
          "metadata": {
            "tags": []
          },
          "execution_count": 8
        }
      ]
    },
    {
      "cell_type": "code",
      "metadata": {
        "id": "TEcU17ov0DWN"
      },
      "source": [
        "metadata = metadata.loc[metadata['cough_detected'] >= 0.9][['uuid','status']]\n",
        "metadata.dropna(inplace=True)"
      ],
      "execution_count": 9,
      "outputs": []
    },
    {
      "cell_type": "code",
      "metadata": {
        "id": "POj-Gonv1YUw",
        "outputId": "a79d8b29-adbb-4321-c843-9c7997622fa3",
        "colab": {
          "base_uri": "https://localhost:8080/"
        }
      },
      "source": [
        "metadata.info()\n",
        "metadata['status'].unique()"
      ],
      "execution_count": 10,
      "outputs": [
        {
          "output_type": "stream",
          "text": [
            "<class 'pandas.core.frame.DataFrame'>\n",
            "Int64Index: 6092 entries, 0 to 20066\n",
            "Data columns (total 2 columns):\n",
            " #   Column  Non-Null Count  Dtype \n",
            "---  ------  --------------  ----- \n",
            " 0   uuid    6092 non-null   object\n",
            " 1   status  6092 non-null   object\n",
            "dtypes: object(2)\n",
            "memory usage: 142.8+ KB\n"
          ],
          "name": "stdout"
        },
        {
          "output_type": "execute_result",
          "data": {
            "text/plain": [
              "array(['healthy', 'symptomatic', 'COVID-19'], dtype=object)"
            ]
          },
          "metadata": {
            "tags": []
          },
          "execution_count": 10
        }
      ]
    },
    {
      "cell_type": "code",
      "metadata": {
        "id": "KPwN8Oixx2u1",
        "outputId": "e8ae5a88-4603-4c47-83b4-77be91ef4224",
        "colab": {
          "base_uri": "https://localhost:8080/",
          "height": 424
        }
      },
      "source": [
        "extradata = metadata.loc[metadata['status']=='COVID-19']\n",
        "notradata = metadata.loc[metadata['status']!='COVID-19'][0:1000]\n",
        "totdata   = pd.concat([extradata,notradata],ignore_index= True)\n",
        "totdata   = totdata.sample(frac=1).reset_index(drop=True)\n",
        "totdata"
      ],
      "execution_count": 11,
      "outputs": [
        {
          "output_type": "execute_result",
          "data": {
            "text/html": [
              "<div>\n",
              "<style scoped>\n",
              "    .dataframe tbody tr th:only-of-type {\n",
              "        vertical-align: middle;\n",
              "    }\n",
              "\n",
              "    .dataframe tbody tr th {\n",
              "        vertical-align: top;\n",
              "    }\n",
              "\n",
              "    .dataframe thead th {\n",
              "        text-align: right;\n",
              "    }\n",
              "</style>\n",
              "<table border=\"1\" class=\"dataframe\">\n",
              "  <thead>\n",
              "    <tr style=\"text-align: right;\">\n",
              "      <th></th>\n",
              "      <th>uuid</th>\n",
              "      <th>status</th>\n",
              "    </tr>\n",
              "  </thead>\n",
              "  <tbody>\n",
              "    <tr>\n",
              "      <th>0</th>\n",
              "      <td>d0900d06-18dd-4fa9-94a7-7dc1e4d0f125</td>\n",
              "      <td>COVID-19</td>\n",
              "    </tr>\n",
              "    <tr>\n",
              "      <th>1</th>\n",
              "      <td>21ca6739-176f-4e5e-a6c7-44ef4185094b</td>\n",
              "      <td>symptomatic</td>\n",
              "    </tr>\n",
              "    <tr>\n",
              "      <th>2</th>\n",
              "      <td>60ab1646-c540-4179-ae54-ca83767edff1</td>\n",
              "      <td>COVID-19</td>\n",
              "    </tr>\n",
              "    <tr>\n",
              "      <th>3</th>\n",
              "      <td>2a8a1ee6-1704-4638-ab3f-2b88ca2fc8ba</td>\n",
              "      <td>healthy</td>\n",
              "    </tr>\n",
              "    <tr>\n",
              "      <th>4</th>\n",
              "      <td>02e59170-07cd-49eb-8d1f-59f9b0a0bec7</td>\n",
              "      <td>healthy</td>\n",
              "    </tr>\n",
              "    <tr>\n",
              "      <th>...</th>\n",
              "      <td>...</td>\n",
              "      <td>...</td>\n",
              "    </tr>\n",
              "    <tr>\n",
              "      <th>1436</th>\n",
              "      <td>dba6a1e3-ce39-438e-af77-9b1ce00332de</td>\n",
              "      <td>COVID-19</td>\n",
              "    </tr>\n",
              "    <tr>\n",
              "      <th>1437</th>\n",
              "      <td>2e6ad653-27dc-47df-87da-92f67585e904</td>\n",
              "      <td>healthy</td>\n",
              "    </tr>\n",
              "    <tr>\n",
              "      <th>1438</th>\n",
              "      <td>077edc1c-7f85-41a3-941a-cac380f9243a</td>\n",
              "      <td>healthy</td>\n",
              "    </tr>\n",
              "    <tr>\n",
              "      <th>1439</th>\n",
              "      <td>21aee478-6d13-45ea-be4d-4f29fd244798</td>\n",
              "      <td>COVID-19</td>\n",
              "    </tr>\n",
              "    <tr>\n",
              "      <th>1440</th>\n",
              "      <td>0b0b0aa7-b3fd-43f5-8292-9687f7df34de</td>\n",
              "      <td>healthy</td>\n",
              "    </tr>\n",
              "  </tbody>\n",
              "</table>\n",
              "<p>1441 rows × 2 columns</p>\n",
              "</div>"
            ],
            "text/plain": [
              "                                      uuid       status\n",
              "0     d0900d06-18dd-4fa9-94a7-7dc1e4d0f125     COVID-19\n",
              "1     21ca6739-176f-4e5e-a6c7-44ef4185094b  symptomatic\n",
              "2     60ab1646-c540-4179-ae54-ca83767edff1     COVID-19\n",
              "3     2a8a1ee6-1704-4638-ab3f-2b88ca2fc8ba      healthy\n",
              "4     02e59170-07cd-49eb-8d1f-59f9b0a0bec7      healthy\n",
              "...                                    ...          ...\n",
              "1436  dba6a1e3-ce39-438e-af77-9b1ce00332de     COVID-19\n",
              "1437  2e6ad653-27dc-47df-87da-92f67585e904      healthy\n",
              "1438  077edc1c-7f85-41a3-941a-cac380f9243a      healthy\n",
              "1439  21aee478-6d13-45ea-be4d-4f29fd244798     COVID-19\n",
              "1440  0b0b0aa7-b3fd-43f5-8292-9687f7df34de      healthy\n",
              "\n",
              "[1441 rows x 2 columns]"
            ]
          },
          "metadata": {
            "tags": []
          },
          "execution_count": 11
        }
      ]
    },
    {
      "cell_type": "code",
      "metadata": {
        "id": "fBv9j6zk47s5"
      },
      "source": [
        "def feature_extractor(audiofile):\n",
        "  try:\n",
        "    audio,sr = librosa.load(os.path.join(datadir,audiofile+'.webm'))\n",
        "    #For MFCCS \n",
        "    mfccs    = librosa.feature.mfcc(y=audio,sr=sr, n_mfcc=39)\n",
        "    mfccsscaled = np.mean(mfccs.T,axis=0)\n",
        "\n",
        "    #Mel Spectogram\n",
        "    pylab.axis('off') # no axis\n",
        "    pylab.axes([0., 0., 1., 1.], frameon=False, xticks=[], yticks=[])\n",
        "    melspec  = librosa.feature.melspectrogram(y=audio,sr=sr)\n",
        "    s_db     = librosa.power_to_db(melspec, ref=np.max)\n",
        "    librosa.display.specshow(s_db)\n",
        "\n",
        "    savepath = os.path.join(custpath,audiofile+'.png')\n",
        "    pylab.savefig(savepath, bbox_inches=None, pad_inches=0)\n",
        "    pylab.close()\n",
        "  except:\n",
        "    print('File cannot open')\n",
        "    return None,None\n",
        "  return mfccsscaled,savepath\n",
        "\n",
        "features = []\n",
        "imgpaths = []"
      ],
      "execution_count": 12,
      "outputs": []
    },
    {
      "cell_type": "code",
      "metadata": {
        "id": "X9ZQUYG0h23W",
        "outputId": "3b03e328-3036-4618-a20e-8a2c8c1ed310",
        "colab": {
          "base_uri": "https://localhost:8080/"
        }
      },
      "source": [
        "for value in tqdm(totdata['uuid']):\n",
        "  #value += '.webm'\n",
        "  mfccs,savepath  = feature_extractor(value)\n",
        "  features.append(mfccs)\n",
        "  imgpaths.append(savepath)"
      ],
      "execution_count": 13,
      "outputs": [
        {
          "output_type": "stream",
          "text": [
            "  3%|▎         | 49/1441 [00:39<13:29,  1.72it/s]"
          ],
          "name": "stderr"
        },
        {
          "output_type": "stream",
          "text": [
            "File cannot open\n"
          ],
          "name": "stdout"
        },
        {
          "output_type": "stream",
          "text": [
            "  6%|▌         | 86/1441 [01:09<13:35,  1.66it/s]"
          ],
          "name": "stderr"
        },
        {
          "output_type": "stream",
          "text": [
            "File cannot open\n"
          ],
          "name": "stdout"
        },
        {
          "output_type": "stream",
          "text": [
            " 12%|█▏        | 169/1441 [02:19<14:21,  1.48it/s]"
          ],
          "name": "stderr"
        },
        {
          "output_type": "stream",
          "text": [
            "File cannot open\n"
          ],
          "name": "stdout"
        },
        {
          "output_type": "stream",
          "text": [
            " 12%|█▏        | 180/1441 [02:27<13:36,  1.54it/s]"
          ],
          "name": "stderr"
        },
        {
          "output_type": "stream",
          "text": [
            "File cannot open\n"
          ],
          "name": "stdout"
        },
        {
          "output_type": "stream",
          "text": [
            " 13%|█▎        | 190/1441 [02:36<13:48,  1.51it/s]"
          ],
          "name": "stderr"
        },
        {
          "output_type": "stream",
          "text": [
            "File cannot open\n"
          ],
          "name": "stdout"
        },
        {
          "output_type": "stream",
          "text": [
            " 13%|█▎        | 192/1441 [02:37<11:56,  1.74it/s]"
          ],
          "name": "stderr"
        },
        {
          "output_type": "stream",
          "text": [
            "File cannot open\n"
          ],
          "name": "stdout"
        },
        {
          "output_type": "stream",
          "text": [
            " 19%|█▉        | 276/1441 [03:47<10:08,  1.91it/s]"
          ],
          "name": "stderr"
        },
        {
          "output_type": "stream",
          "text": [
            "File cannot open\n",
            "File cannot open\n"
          ],
          "name": "stdout"
        },
        {
          "output_type": "stream",
          "text": [
            " 19%|█▉        | 279/1441 [03:49<09:40,  2.00it/s]"
          ],
          "name": "stderr"
        },
        {
          "output_type": "stream",
          "text": [
            "File cannot open\n"
          ],
          "name": "stdout"
        },
        {
          "output_type": "stream",
          "text": [
            " 21%|██        | 300/1441 [04:07<11:20,  1.68it/s]"
          ],
          "name": "stderr"
        },
        {
          "output_type": "stream",
          "text": [
            "File cannot open\n"
          ],
          "name": "stdout"
        },
        {
          "output_type": "stream",
          "text": [
            " 25%|██▌       | 362/1441 [05:01<10:52,  1.65it/s]"
          ],
          "name": "stderr"
        },
        {
          "output_type": "stream",
          "text": [
            "File cannot open\n"
          ],
          "name": "stdout"
        },
        {
          "output_type": "stream",
          "text": [
            " 25%|██▌       | 364/1441 [05:02<09:16,  1.94it/s]"
          ],
          "name": "stderr"
        },
        {
          "output_type": "stream",
          "text": [
            "File cannot open\n"
          ],
          "name": "stdout"
        },
        {
          "output_type": "stream",
          "text": [
            " 27%|██▋       | 385/1441 [05:20<12:34,  1.40it/s]"
          ],
          "name": "stderr"
        },
        {
          "output_type": "stream",
          "text": [
            "File cannot open\n"
          ],
          "name": "stdout"
        },
        {
          "output_type": "stream",
          "text": [
            " 28%|██▊       | 407/1441 [05:40<11:48,  1.46it/s]"
          ],
          "name": "stderr"
        },
        {
          "output_type": "stream",
          "text": [
            "File cannot open\n"
          ],
          "name": "stdout"
        },
        {
          "output_type": "stream",
          "text": [
            " 29%|██▊       | 411/1441 [05:43<10:53,  1.58it/s]"
          ],
          "name": "stderr"
        },
        {
          "output_type": "stream",
          "text": [
            "File cannot open\n"
          ],
          "name": "stdout"
        },
        {
          "output_type": "stream",
          "text": [
            " 30%|██▉       | 430/1441 [05:59<11:46,  1.43it/s]"
          ],
          "name": "stderr"
        },
        {
          "output_type": "stream",
          "text": [
            "File cannot open\n"
          ],
          "name": "stdout"
        },
        {
          "output_type": "stream",
          "text": [
            " 32%|███▏      | 460/1441 [06:24<10:00,  1.63it/s]"
          ],
          "name": "stderr"
        },
        {
          "output_type": "stream",
          "text": [
            "File cannot open\n"
          ],
          "name": "stdout"
        },
        {
          "output_type": "stream",
          "text": [
            " 34%|███▍      | 494/1441 [06:54<11:43,  1.35it/s]"
          ],
          "name": "stderr"
        },
        {
          "output_type": "stream",
          "text": [
            "File cannot open\n"
          ],
          "name": "stdout"
        },
        {
          "output_type": "stream",
          "text": [
            " 37%|███▋      | 536/1441 [07:32<10:16,  1.47it/s]"
          ],
          "name": "stderr"
        },
        {
          "output_type": "stream",
          "text": [
            "File cannot open\n"
          ],
          "name": "stdout"
        },
        {
          "output_type": "stream",
          "text": [
            " 42%|████▏     | 610/1441 [08:40<10:13,  1.36it/s]"
          ],
          "name": "stderr"
        },
        {
          "output_type": "stream",
          "text": [
            "File cannot open\n"
          ],
          "name": "stdout"
        },
        {
          "output_type": "stream",
          "text": [
            " 43%|████▎     | 613/1441 [08:42<09:45,  1.41it/s]"
          ],
          "name": "stderr"
        },
        {
          "output_type": "stream",
          "text": [
            "File cannot open\n"
          ],
          "name": "stdout"
        },
        {
          "output_type": "stream",
          "text": [
            " 43%|████▎     | 626/1441 [08:54<10:30,  1.29it/s]"
          ],
          "name": "stderr"
        },
        {
          "output_type": "stream",
          "text": [
            "File cannot open\n"
          ],
          "name": "stdout"
        },
        {
          "output_type": "stream",
          "text": [
            " 46%|████▌     | 659/1441 [09:25<10:19,  1.26it/s]"
          ],
          "name": "stderr"
        },
        {
          "output_type": "stream",
          "text": [
            "File cannot open\n"
          ],
          "name": "stdout"
        },
        {
          "output_type": "stream",
          "text": [
            " 46%|████▌     | 662/1441 [09:28<09:31,  1.36it/s]"
          ],
          "name": "stderr"
        },
        {
          "output_type": "stream",
          "text": [
            "File cannot open\n"
          ],
          "name": "stdout"
        },
        {
          "output_type": "stream",
          "text": [
            " 46%|████▌     | 664/1441 [09:29<08:38,  1.50it/s]"
          ],
          "name": "stderr"
        },
        {
          "output_type": "stream",
          "text": [
            "File cannot open\n"
          ],
          "name": "stdout"
        },
        {
          "output_type": "stream",
          "text": [
            " 46%|████▋     | 668/1441 [09:32<09:20,  1.38it/s]"
          ],
          "name": "stderr"
        },
        {
          "output_type": "stream",
          "text": [
            "File cannot open\n"
          ],
          "name": "stdout"
        },
        {
          "output_type": "stream",
          "text": [
            " 50%|█████     | 727/1441 [10:29<07:56,  1.50it/s]"
          ],
          "name": "stderr"
        },
        {
          "output_type": "stream",
          "text": [
            "File cannot open\n"
          ],
          "name": "stdout"
        },
        {
          "output_type": "stream",
          "text": [
            " 56%|█████▌    | 801/1441 [11:43<08:58,  1.19it/s]"
          ],
          "name": "stderr"
        },
        {
          "output_type": "stream",
          "text": [
            "File cannot open\n"
          ],
          "name": "stdout"
        },
        {
          "output_type": "stream",
          "text": [
            " 56%|█████▋    | 814/1441 [11:55<07:46,  1.35it/s]"
          ],
          "name": "stderr"
        },
        {
          "output_type": "stream",
          "text": [
            "File cannot open\n"
          ],
          "name": "stdout"
        },
        {
          "output_type": "stream",
          "text": [
            "\r 57%|█████▋    | 815/1441 [11:55<06:27,  1.62it/s]"
          ],
          "name": "stderr"
        },
        {
          "output_type": "stream",
          "text": [
            "File cannot open\n"
          ],
          "name": "stdout"
        },
        {
          "output_type": "stream",
          "text": [
            " 57%|█████▋    | 820/1441 [12:00<08:06,  1.28it/s]"
          ],
          "name": "stderr"
        },
        {
          "output_type": "stream",
          "text": [
            "File cannot open\n"
          ],
          "name": "stdout"
        },
        {
          "output_type": "stream",
          "text": [
            " 61%|██████    | 881/1441 [13:04<07:46,  1.20it/s]"
          ],
          "name": "stderr"
        },
        {
          "output_type": "stream",
          "text": [
            "File cannot open\n"
          ],
          "name": "stdout"
        },
        {
          "output_type": "stream",
          "text": [
            " 61%|██████▏   | 884/1441 [13:06<07:03,  1.31it/s]"
          ],
          "name": "stderr"
        },
        {
          "output_type": "stream",
          "text": [
            "File cannot open\n"
          ],
          "name": "stdout"
        },
        {
          "output_type": "stream",
          "text": [
            " 71%|███████   | 1019/1441 [15:27<06:06,  1.15it/s]"
          ],
          "name": "stderr"
        },
        {
          "output_type": "stream",
          "text": [
            "File cannot open\n"
          ],
          "name": "stdout"
        },
        {
          "output_type": "stream",
          "text": [
            " 71%|███████▏  | 1027/1441 [15:36<06:10,  1.12it/s]"
          ],
          "name": "stderr"
        },
        {
          "output_type": "stream",
          "text": [
            "File cannot open\n"
          ],
          "name": "stdout"
        },
        {
          "output_type": "stream",
          "text": [
            " 72%|███████▏  | 1043/1441 [15:52<05:47,  1.15it/s]"
          ],
          "name": "stderr"
        },
        {
          "output_type": "stream",
          "text": [
            "File cannot open\n"
          ],
          "name": "stdout"
        },
        {
          "output_type": "stream",
          "text": [
            " 79%|███████▉  | 1136/1441 [17:35<04:28,  1.14it/s]"
          ],
          "name": "stderr"
        },
        {
          "output_type": "stream",
          "text": [
            "File cannot open\n"
          ],
          "name": "stdout"
        },
        {
          "output_type": "stream",
          "text": [
            " 79%|███████▉  | 1139/1441 [17:38<04:20,  1.16it/s]"
          ],
          "name": "stderr"
        },
        {
          "output_type": "stream",
          "text": [
            "File cannot open\n"
          ],
          "name": "stdout"
        },
        {
          "output_type": "stream",
          "text": [
            " 81%|████████  | 1166/1441 [18:07<03:59,  1.15it/s]"
          ],
          "name": "stderr"
        },
        {
          "output_type": "stream",
          "text": [
            "File cannot open\n"
          ],
          "name": "stdout"
        },
        {
          "output_type": "stream",
          "text": [
            " 86%|████████▌ | 1239/1441 [19:31<03:14,  1.04it/s]"
          ],
          "name": "stderr"
        },
        {
          "output_type": "stream",
          "text": [
            "File cannot open\n"
          ],
          "name": "stdout"
        },
        {
          "output_type": "stream",
          "text": [
            " 91%|█████████ | 1310/1441 [20:59<02:15,  1.04s/it]"
          ],
          "name": "stderr"
        },
        {
          "output_type": "stream",
          "text": [
            "File cannot open\n"
          ],
          "name": "stdout"
        },
        {
          "output_type": "stream",
          "text": [
            " 97%|█████████▋| 1398/1441 [22:51<00:46,  1.08s/it]"
          ],
          "name": "stderr"
        },
        {
          "output_type": "stream",
          "text": [
            "File cannot open\n"
          ],
          "name": "stdout"
        },
        {
          "output_type": "stream",
          "text": [
            " 99%|█████████▊| 1421/1441 [23:22<00:25,  1.28s/it]"
          ],
          "name": "stderr"
        },
        {
          "output_type": "stream",
          "text": [
            "File cannot open\n"
          ],
          "name": "stdout"
        },
        {
          "output_type": "stream",
          "text": [
            " 99%|█████████▉| 1431/1441 [23:34<00:10,  1.02s/it]"
          ],
          "name": "stderr"
        },
        {
          "output_type": "stream",
          "text": [
            "File cannot open\n"
          ],
          "name": "stdout"
        },
        {
          "output_type": "stream",
          "text": [
            "100%|██████████| 1441/1441 [23:47<00:00,  1.01it/s]\n"
          ],
          "name": "stderr"
        }
      ]
    },
    {
      "cell_type": "code",
      "metadata": {
        "id": "7gA_1ghth4XY"
      },
      "source": [
        "isnone = lambda x: x is not None\n",
        "label  = lambda x: 1 if x == 'COVID-19' else 0\n",
        "cast_x = list(map(isnone,features))\n",
        "data_y = list(map(label,totdata['status']))\n",
        "\n",
        "data_x = [features[i] for i in range(len(features)) if cast_x[i] == True]\n",
        "data_xx= [imgpaths[i] for i in range(len(imgpaths)) if cast_x[i] == True]\n",
        "data_y = [data_y[i] for i in range(len(features)) if cast_x[i] == True]"
      ],
      "execution_count": 209,
      "outputs": []
    },
    {
      "cell_type": "code",
      "metadata": {
        "id": "mGr1VHFhcYI0",
        "outputId": "27b10009-42c4-402d-d3b0-1ae7138ddb74",
        "colab": {
          "base_uri": "https://localhost:8080/"
        }
      },
      "source": [
        "print(len(data_x))\n",
        "print(len(data_y))"
      ],
      "execution_count": 210,
      "outputs": [
        {
          "output_type": "stream",
          "text": [
            "1397\n",
            "1397\n"
          ],
          "name": "stdout"
        }
      ]
    },
    {
      "cell_type": "code",
      "metadata": {
        "id": "s5hBSPPKaw7b"
      },
      "source": [
        "data_x = np.array(data_x)\n",
        "data_y = np.array(data_y)"
      ],
      "execution_count": 211,
      "outputs": []
    },
    {
      "cell_type": "code",
      "metadata": {
        "id": "EYZVzHxUTTRl",
        "outputId": "fd2b2068-db6a-45df-ddca-f58f864dfbdf",
        "colab": {
          "base_uri": "https://localhost:8080/"
        }
      },
      "source": [
        "print(data_x.shape[1])"
      ],
      "execution_count": 212,
      "outputs": [
        {
          "output_type": "stream",
          "text": [
            "39\n"
          ],
          "name": "stdout"
        }
      ]
    },
    {
      "cell_type": "code",
      "metadata": {
        "id": "a-Z4ChUrHlCQ"
      },
      "source": [
        "train_x = data_x[:int(0.8*len(data_x))]\n",
        "train_y = data_y[:int(0.8*len(data_y))]\n",
        "\n",
        "test_x  = data_x[int(0.8*len(data_x)):]\n",
        "test_y  = data_y[int(0.8*len(data_x)):]"
      ],
      "execution_count": 213,
      "outputs": []
    },
    {
      "cell_type": "code",
      "metadata": {
        "id": "XZWjt48CIX5_",
        "outputId": "66593508-bdeb-4913-d25e-de9c05ba00f6",
        "colab": {
          "base_uri": "https://localhost:8080/"
        }
      },
      "source": [
        "model = Sequential()\n",
        "#model.add(Dropout(0.1))\n",
        "model.add(Dense(units=512,activation='relu',input_dim=data_x.shape[1],kernel_initializer='GlorotUniform'))\n",
        "model.add(Dropout(0.4))\n",
        "model.add(Dense(units=256,activation='relu',kernel_initializer='GlorotUniform'))\n",
        "model.add(Dropout(0.2))\n",
        "model.add(Dense(units=2,activation='softmax'))\n",
        "\n",
        "model.summary()"
      ],
      "execution_count": 214,
      "outputs": [
        {
          "output_type": "stream",
          "text": [
            "Model: \"sequential_31\"\n",
            "_________________________________________________________________\n",
            "Layer (type)                 Output Shape              Param #   \n",
            "=================================================================\n",
            "dense_63 (Dense)             (None, 512)               20480     \n",
            "_________________________________________________________________\n",
            "dropout_62 (Dropout)         (None, 512)               0         \n",
            "_________________________________________________________________\n",
            "dense_64 (Dense)             (None, 256)               131328    \n",
            "_________________________________________________________________\n",
            "dropout_63 (Dropout)         (None, 256)               0         \n",
            "_________________________________________________________________\n",
            "dense_65 (Dense)             (None, 2)                 514       \n",
            "=================================================================\n",
            "Total params: 152,322\n",
            "Trainable params: 152,322\n",
            "Non-trainable params: 0\n",
            "_________________________________________________________________\n"
          ],
          "name": "stdout"
        }
      ]
    },
    {
      "cell_type": "code",
      "metadata": {
        "id": "aTIxYTWzSpbO"
      },
      "source": [
        "model.compile(\n",
        "    optimizer = 'Adam',\n",
        "    loss = 'CategoricalCrossentropy',\n",
        "    metrics=['AUC']\n",
        ")"
      ],
      "execution_count": 215,
      "outputs": []
    },
    {
      "cell_type": "code",
      "metadata": {
        "id": "37YMD5HTWXNv",
        "outputId": "23a1369a-c4d5-479b-dc81-0c6cab938c8d",
        "colab": {
          "base_uri": "https://localhost:8080/"
        }
      },
      "source": [
        "print(\"Fit model on training data\")\n",
        "history = model.fit(\n",
        "    train_x,\n",
        "    keras.utils.to_categorical(train_y, num_classes=2),\n",
        "    batch_size=48,\n",
        "    epochs=120,\n",
        ")\n"
      ],
      "execution_count": 216,
      "outputs": [
        {
          "output_type": "stream",
          "text": [
            "Fit model on training data\n",
            "Epoch 1/120\n",
            "24/24 [==============================] - 0s 3ms/step - loss: 12.5859 - auc: 0.5702\n",
            "Epoch 2/120\n",
            "24/24 [==============================] - 0s 3ms/step - loss: 6.6399 - auc: 0.5935\n",
            "Epoch 3/120\n",
            "24/24 [==============================] - 0s 4ms/step - loss: 4.4175 - auc: 0.5890\n",
            "Epoch 4/120\n",
            "24/24 [==============================] - 0s 3ms/step - loss: 2.7784 - auc: 0.6005\n",
            "Epoch 5/120\n",
            "24/24 [==============================] - 0s 3ms/step - loss: 2.2298 - auc: 0.5839\n",
            "Epoch 6/120\n",
            "24/24 [==============================] - 0s 3ms/step - loss: 1.4275 - auc: 0.6150\n",
            "Epoch 7/120\n",
            "24/24 [==============================] - 0s 3ms/step - loss: 1.0913 - auc: 0.6211\n",
            "Epoch 8/120\n",
            "24/24 [==============================] - 0s 3ms/step - loss: 0.9007 - auc: 0.6346\n",
            "Epoch 9/120\n",
            "24/24 [==============================] - 0s 3ms/step - loss: 0.8128 - auc: 0.6521\n",
            "Epoch 10/120\n",
            "24/24 [==============================] - 0s 3ms/step - loss: 0.7389 - auc: 0.6419\n",
            "Epoch 11/120\n",
            "24/24 [==============================] - 0s 3ms/step - loss: 0.7073 - auc: 0.6513\n",
            "Epoch 12/120\n",
            "24/24 [==============================] - 0s 3ms/step - loss: 0.6672 - auc: 0.6902\n",
            "Epoch 13/120\n",
            "24/24 [==============================] - 0s 3ms/step - loss: 0.6607 - auc: 0.6873\n",
            "Epoch 14/120\n",
            "24/24 [==============================] - 0s 3ms/step - loss: 0.6658 - auc: 0.6732\n",
            "Epoch 15/120\n",
            "24/24 [==============================] - 0s 3ms/step - loss: 0.6540 - auc: 0.6912\n",
            "Epoch 16/120\n",
            "24/24 [==============================] - 0s 3ms/step - loss: 0.6618 - auc: 0.6757\n",
            "Epoch 17/120\n",
            "24/24 [==============================] - 0s 3ms/step - loss: 0.6550 - auc: 0.6886\n",
            "Epoch 18/120\n",
            "24/24 [==============================] - 0s 3ms/step - loss: 0.6467 - auc: 0.6915\n",
            "Epoch 19/120\n",
            "24/24 [==============================] - 0s 3ms/step - loss: 0.6535 - auc: 0.6791\n",
            "Epoch 20/120\n",
            "24/24 [==============================] - 0s 3ms/step - loss: 0.6418 - auc: 0.6901\n",
            "Epoch 21/120\n",
            "24/24 [==============================] - 0s 3ms/step - loss: 0.6351 - auc: 0.6915\n",
            "Epoch 22/120\n",
            "24/24 [==============================] - 0s 3ms/step - loss: 0.6442 - auc: 0.6930\n",
            "Epoch 23/120\n",
            "24/24 [==============================] - 0s 3ms/step - loss: 0.6350 - auc: 0.7010\n",
            "Epoch 24/120\n",
            "24/24 [==============================] - 0s 3ms/step - loss: 0.6422 - auc: 0.6857\n",
            "Epoch 25/120\n",
            "24/24 [==============================] - 0s 3ms/step - loss: 0.6501 - auc: 0.6812\n",
            "Epoch 26/120\n",
            "24/24 [==============================] - 0s 3ms/step - loss: 0.6378 - auc: 0.6932\n",
            "Epoch 27/120\n",
            "24/24 [==============================] - 0s 3ms/step - loss: 0.6345 - auc: 0.6959\n",
            "Epoch 28/120\n",
            "24/24 [==============================] - 0s 3ms/step - loss: 0.6314 - auc: 0.7047\n",
            "Epoch 29/120\n",
            "24/24 [==============================] - 0s 3ms/step - loss: 0.6212 - auc: 0.7036\n",
            "Epoch 30/120\n",
            "24/24 [==============================] - 0s 3ms/step - loss: 0.6337 - auc: 0.6954\n",
            "Epoch 31/120\n",
            "24/24 [==============================] - 0s 3ms/step - loss: 0.6356 - auc: 0.6908\n",
            "Epoch 32/120\n",
            "24/24 [==============================] - 0s 3ms/step - loss: 0.6342 - auc: 0.6820\n",
            "Epoch 33/120\n",
            "24/24 [==============================] - 0s 3ms/step - loss: 0.6415 - auc: 0.6821\n",
            "Epoch 34/120\n",
            "24/24 [==============================] - 0s 3ms/step - loss: 0.6317 - auc: 0.6885\n",
            "Epoch 35/120\n",
            "24/24 [==============================] - 0s 3ms/step - loss: 0.6277 - auc: 0.6961\n",
            "Epoch 36/120\n",
            "24/24 [==============================] - 0s 3ms/step - loss: 0.6276 - auc: 0.6994\n",
            "Epoch 37/120\n",
            "24/24 [==============================] - 0s 3ms/step - loss: 0.6224 - auc: 0.7096\n",
            "Epoch 38/120\n",
            "24/24 [==============================] - 0s 3ms/step - loss: 0.6233 - auc: 0.7018\n",
            "Epoch 39/120\n",
            "24/24 [==============================] - 0s 3ms/step - loss: 0.6219 - auc: 0.7074\n",
            "Epoch 40/120\n",
            "24/24 [==============================] - 0s 3ms/step - loss: 0.6257 - auc: 0.7016\n",
            "Epoch 41/120\n",
            "24/24 [==============================] - 0s 3ms/step - loss: 0.6237 - auc: 0.7009\n",
            "Epoch 42/120\n",
            "24/24 [==============================] - 0s 3ms/step - loss: 0.6262 - auc: 0.7047\n",
            "Epoch 43/120\n",
            "24/24 [==============================] - 0s 3ms/step - loss: 0.6286 - auc: 0.6947\n",
            "Epoch 44/120\n",
            "24/24 [==============================] - 0s 4ms/step - loss: 0.6234 - auc: 0.7003\n",
            "Epoch 45/120\n",
            "24/24 [==============================] - 0s 3ms/step - loss: 0.6283 - auc: 0.6994\n",
            "Epoch 46/120\n",
            "24/24 [==============================] - 0s 4ms/step - loss: 0.6195 - auc: 0.7054\n",
            "Epoch 47/120\n",
            "24/24 [==============================] - 0s 3ms/step - loss: 0.6256 - auc: 0.6986\n",
            "Epoch 48/120\n",
            "24/24 [==============================] - 0s 3ms/step - loss: 0.6222 - auc: 0.7121\n",
            "Epoch 49/120\n",
            "24/24 [==============================] - 0s 3ms/step - loss: 0.6223 - auc: 0.7030\n",
            "Epoch 50/120\n",
            "24/24 [==============================] - 0s 3ms/step - loss: 0.6137 - auc: 0.7173\n",
            "Epoch 51/120\n",
            "24/24 [==============================] - 0s 3ms/step - loss: 0.6239 - auc: 0.7001\n",
            "Epoch 52/120\n",
            "24/24 [==============================] - 0s 3ms/step - loss: 0.6264 - auc: 0.7055\n",
            "Epoch 53/120\n",
            "24/24 [==============================] - 0s 3ms/step - loss: 0.6171 - auc: 0.7096\n",
            "Epoch 54/120\n",
            "24/24 [==============================] - 0s 3ms/step - loss: 0.6191 - auc: 0.7141\n",
            "Epoch 55/120\n",
            "24/24 [==============================] - 0s 3ms/step - loss: 0.6220 - auc: 0.7078\n",
            "Epoch 56/120\n",
            "24/24 [==============================] - 0s 3ms/step - loss: 0.6241 - auc: 0.7030\n",
            "Epoch 57/120\n",
            "24/24 [==============================] - 0s 3ms/step - loss: 0.6242 - auc: 0.7009\n",
            "Epoch 58/120\n",
            "24/24 [==============================] - 0s 3ms/step - loss: 0.6180 - auc: 0.7127\n",
            "Epoch 59/120\n",
            "24/24 [==============================] - 0s 3ms/step - loss: 0.6171 - auc: 0.7113\n",
            "Epoch 60/120\n",
            "24/24 [==============================] - 0s 3ms/step - loss: 0.6207 - auc: 0.7071\n",
            "Epoch 61/120\n",
            "24/24 [==============================] - 0s 3ms/step - loss: 0.6212 - auc: 0.7088\n",
            "Epoch 62/120\n",
            "24/24 [==============================] - 0s 3ms/step - loss: 0.6202 - auc: 0.7122\n",
            "Epoch 63/120\n",
            "24/24 [==============================] - 0s 3ms/step - loss: 0.6167 - auc: 0.7160\n",
            "Epoch 64/120\n",
            "24/24 [==============================] - 0s 4ms/step - loss: 0.6210 - auc: 0.7051\n",
            "Epoch 65/120\n",
            "24/24 [==============================] - 0s 3ms/step - loss: 0.6241 - auc: 0.7057\n",
            "Epoch 66/120\n",
            "24/24 [==============================] - 0s 3ms/step - loss: 0.6115 - auc: 0.7242\n",
            "Epoch 67/120\n",
            "24/24 [==============================] - 0s 3ms/step - loss: 0.6169 - auc: 0.7134\n",
            "Epoch 68/120\n",
            "24/24 [==============================] - 0s 3ms/step - loss: 0.6162 - auc: 0.7124\n",
            "Epoch 69/120\n",
            "24/24 [==============================] - 0s 3ms/step - loss: 0.6159 - auc: 0.7076\n",
            "Epoch 70/120\n",
            "24/24 [==============================] - 0s 3ms/step - loss: 0.6163 - auc: 0.7148\n",
            "Epoch 71/120\n",
            "24/24 [==============================] - 0s 3ms/step - loss: 0.6141 - auc: 0.7133\n",
            "Epoch 72/120\n",
            "24/24 [==============================] - 0s 3ms/step - loss: 0.6193 - auc: 0.7085\n",
            "Epoch 73/120\n",
            "24/24 [==============================] - 0s 3ms/step - loss: 0.6133 - auc: 0.7143\n",
            "Epoch 74/120\n",
            "24/24 [==============================] - 0s 3ms/step - loss: 0.6139 - auc: 0.7199\n",
            "Epoch 75/120\n",
            "24/24 [==============================] - 0s 4ms/step - loss: 0.6096 - auc: 0.7251\n",
            "Epoch 76/120\n",
            "24/24 [==============================] - 0s 3ms/step - loss: 0.6172 - auc: 0.7208\n",
            "Epoch 77/120\n",
            "24/24 [==============================] - 0s 3ms/step - loss: 0.6174 - auc: 0.7132\n",
            "Epoch 78/120\n",
            "24/24 [==============================] - 0s 3ms/step - loss: 0.6176 - auc: 0.7149\n",
            "Epoch 79/120\n",
            "24/24 [==============================] - 0s 3ms/step - loss: 0.6128 - auc: 0.7202\n",
            "Epoch 80/120\n",
            "24/24 [==============================] - 0s 3ms/step - loss: 0.6106 - auc: 0.7270\n",
            "Epoch 81/120\n",
            "24/24 [==============================] - 0s 3ms/step - loss: 0.6135 - auc: 0.7163\n",
            "Epoch 82/120\n",
            "24/24 [==============================] - 0s 4ms/step - loss: 0.6103 - auc: 0.7226\n",
            "Epoch 83/120\n",
            "24/24 [==============================] - 0s 3ms/step - loss: 0.6198 - auc: 0.7075\n",
            "Epoch 84/120\n",
            "24/24 [==============================] - 0s 3ms/step - loss: 0.6101 - auc: 0.7174\n",
            "Epoch 85/120\n",
            "24/24 [==============================] - 0s 3ms/step - loss: 0.6135 - auc: 0.7157\n",
            "Epoch 86/120\n",
            "24/24 [==============================] - 0s 4ms/step - loss: 0.6093 - auc: 0.7215\n",
            "Epoch 87/120\n",
            "24/24 [==============================] - 0s 3ms/step - loss: 0.6047 - auc: 0.7266\n",
            "Epoch 88/120\n",
            "24/24 [==============================] - 0s 3ms/step - loss: 0.6077 - auc: 0.7273\n",
            "Epoch 89/120\n",
            "24/24 [==============================] - 0s 3ms/step - loss: 0.6141 - auc: 0.7084\n",
            "Epoch 90/120\n",
            "24/24 [==============================] - 0s 3ms/step - loss: 0.6148 - auc: 0.7113\n",
            "Epoch 91/120\n",
            "24/24 [==============================] - 0s 4ms/step - loss: 0.6129 - auc: 0.7143\n",
            "Epoch 92/120\n",
            "24/24 [==============================] - 0s 4ms/step - loss: 0.6125 - auc: 0.7122\n",
            "Epoch 93/120\n",
            "24/24 [==============================] - 0s 3ms/step - loss: 0.6124 - auc: 0.7198\n",
            "Epoch 94/120\n",
            "24/24 [==============================] - 0s 4ms/step - loss: 0.6055 - auc: 0.7315\n",
            "Epoch 95/120\n",
            "24/24 [==============================] - 0s 3ms/step - loss: 0.6115 - auc: 0.7183\n",
            "Epoch 96/120\n",
            "24/24 [==============================] - 0s 3ms/step - loss: 0.6109 - auc: 0.7106\n",
            "Epoch 97/120\n",
            "24/24 [==============================] - 0s 4ms/step - loss: 0.6078 - auc: 0.7234\n",
            "Epoch 98/120\n",
            "24/24 [==============================] - 0s 3ms/step - loss: 0.6061 - auc: 0.7188\n",
            "Epoch 99/120\n",
            "24/24 [==============================] - 0s 4ms/step - loss: 0.6068 - auc: 0.7258\n",
            "Epoch 100/120\n",
            "24/24 [==============================] - 0s 3ms/step - loss: 0.6068 - auc: 0.7271\n",
            "Epoch 101/120\n",
            "24/24 [==============================] - 0s 3ms/step - loss: 0.6057 - auc: 0.7230\n",
            "Epoch 102/120\n",
            "24/24 [==============================] - 0s 3ms/step - loss: 0.6147 - auc: 0.7128\n",
            "Epoch 103/120\n",
            "24/24 [==============================] - 0s 3ms/step - loss: 0.6026 - auc: 0.7224\n",
            "Epoch 104/120\n",
            "24/24 [==============================] - 0s 3ms/step - loss: 0.6013 - auc: 0.7299\n",
            "Epoch 105/120\n",
            "24/24 [==============================] - 0s 3ms/step - loss: 0.6095 - auc: 0.7175\n",
            "Epoch 106/120\n",
            "24/24 [==============================] - 0s 3ms/step - loss: 0.6013 - auc: 0.7237\n",
            "Epoch 107/120\n",
            "24/24 [==============================] - 0s 3ms/step - loss: 0.6070 - auc: 0.7130\n",
            "Epoch 108/120\n",
            "24/24 [==============================] - 0s 3ms/step - loss: 0.6150 - auc: 0.7002\n",
            "Epoch 109/120\n",
            "24/24 [==============================] - 0s 4ms/step - loss: 0.6086 - auc: 0.7160\n",
            "Epoch 110/120\n",
            "24/24 [==============================] - 0s 3ms/step - loss: 0.6057 - auc: 0.7296\n",
            "Epoch 111/120\n",
            "24/24 [==============================] - 0s 3ms/step - loss: 0.6175 - auc: 0.7114\n",
            "Epoch 112/120\n",
            "24/24 [==============================] - 0s 3ms/step - loss: 0.6045 - auc: 0.7252\n",
            "Epoch 113/120\n",
            "24/24 [==============================] - 0s 3ms/step - loss: 0.6055 - auc: 0.7256\n",
            "Epoch 114/120\n",
            "24/24 [==============================] - 0s 3ms/step - loss: 0.6030 - auc: 0.7218\n",
            "Epoch 115/120\n",
            "24/24 [==============================] - 0s 3ms/step - loss: 0.6004 - auc: 0.7286\n",
            "Epoch 116/120\n",
            "24/24 [==============================] - 0s 3ms/step - loss: 0.6079 - auc: 0.7196\n",
            "Epoch 117/120\n",
            "24/24 [==============================] - 0s 3ms/step - loss: 0.6172 - auc: 0.7098\n",
            "Epoch 118/120\n",
            "24/24 [==============================] - 0s 4ms/step - loss: 0.6033 - auc: 0.7310\n",
            "Epoch 119/120\n",
            "24/24 [==============================] - 0s 4ms/step - loss: 0.6051 - auc: 0.7275\n",
            "Epoch 120/120\n",
            "24/24 [==============================] - 0s 4ms/step - loss: 0.6076 - auc: 0.7189\n"
          ],
          "name": "stdout"
        }
      ]
    },
    {
      "cell_type": "code",
      "metadata": {
        "id": "l_g6bmkKdl4N",
        "outputId": "251a2223-3b74-4c26-9d67-c102d9b48627",
        "colab": {
          "base_uri": "https://localhost:8080/"
        }
      },
      "source": [
        "model.evaluate(test_x,keras.utils.to_categorical(test_y, num_classes=2))"
      ],
      "execution_count": 218,
      "outputs": [
        {
          "output_type": "stream",
          "text": [
            "9/9 [==============================] - 0s 3ms/step - loss: 0.6141 - auc: 0.7098\n"
          ],
          "name": "stdout"
        },
        {
          "output_type": "execute_result",
          "data": {
            "text/plain": [
              "[0.6140801310539246, 0.7098214626312256]"
            ]
          },
          "metadata": {
            "tags": []
          },
          "execution_count": 218
        }
      ]
    },
    {
      "cell_type": "code",
      "metadata": {
        "id": "0L7iuMS-pBkH",
        "outputId": "96f2362f-0d3c-4048-cbb5-6b0dbf80dcb5",
        "colab": {
          "base_uri": "https://localhost:8080/"
        }
      },
      "source": [
        "model.evaluate(train_x,keras.utils.to_categorical(train_y, num_classes=2))"
      ],
      "execution_count": 219,
      "outputs": [
        {
          "output_type": "stream",
          "text": [
            "35/35 [==============================] - 0s 3ms/step - loss: 0.6012 - auc: 0.7302\n"
          ],
          "name": "stdout"
        },
        {
          "output_type": "execute_result",
          "data": {
            "text/plain": [
              "[0.6011629700660706, 0.7302420735359192]"
            ]
          },
          "metadata": {
            "tags": []
          },
          "execution_count": 219
        }
      ]
    },
    {
      "cell_type": "code",
      "metadata": {
        "id": "-e_3XZIfJUNg",
        "outputId": "c954b32d-f4ec-4a2f-ed16-abcf27b9c46d",
        "colab": {
          "base_uri": "https://localhost:8080/"
        }
      },
      "source": [
        "op = cv2.imread('/content/custom_dataset/00039425-7f3a-42aa-ac13-834aaa2b6b92.png')\n",
        "op.shape"
      ],
      "execution_count": 99,
      "outputs": [
        {
          "output_type": "execute_result",
          "data": {
            "text/plain": [
              "(288, 432, 3)"
            ]
          },
          "metadata": {
            "tags": []
          },
          "execution_count": 99
        }
      ]
    },
    {
      "cell_type": "markdown",
      "metadata": {
        "id": "K7EN94xXH-zl"
      },
      "source": [
        "---\n",
        "# Second Model\n",
        "---\n",
        "\n"
      ]
    },
    {
      "cell_type": "code",
      "metadata": {
        "id": "1XNAO9TYW4IG",
        "outputId": "dbc0bc32-5822-4407-8a6d-2fa28e510978",
        "colab": {
          "base_uri": "https://localhost:8080/"
        }
      },
      "source": [
        "secmodel = Sequential()\n",
        "input_shape=(64,64, 3)#1st hidden layer\n",
        "secmodel.add(Conv2D(32, (3, 3), strides=(2, 2), input_shape=input_shape))\n",
        "secmodel.add(AveragePooling2D((2, 2), strides=(2,2)))\n",
        "secmodel.add(BatchNormalization())\n",
        "secmodel.add(Activation('relu'))\n",
        "\n",
        "secmodel.add(Conv2D(64, (3, 3), padding=\"same\"))\n",
        "secmodel.add(AveragePooling2D((2, 2), strides=(2,2)))\n",
        "secmodel.add(BatchNormalization())\n",
        "secmodel.add(Activation('relu'))\n",
        "\n",
        "secmodel.add(Conv2D(64, (3, 3), padding=\"same\"))\n",
        "secmodel.add(AveragePooling2D((2, 2), strides=(2,2)))\n",
        "secmodel.add(BatchNormalization())\n",
        "secmodel.add(Activation('relu'))\n",
        "\n",
        "secmodel.add(Flatten())\n",
        "secmodel.add(Dropout(rate=0.5))\n",
        "\n",
        "secmodel.add(Dense(64,activation='relu'))\n",
        "secmodel.add(BatchNormalization())\n",
        "\n",
        "secmodel.add(Dropout(rate=0.5))\n",
        "secmodel.add(Dense(2,activation='softmax'))\n",
        "secmodel.summary()"
      ],
      "execution_count": 484,
      "outputs": [
        {
          "output_type": "stream",
          "text": [
            "Model: \"sequential_75\"\n",
            "_________________________________________________________________\n",
            "Layer (type)                 Output Shape              Param #   \n",
            "=================================================================\n",
            "conv2d_217 (Conv2D)          (None, 31, 31, 32)        896       \n",
            "_________________________________________________________________\n",
            "average_pooling2d_216 (Avera (None, 15, 15, 32)        0         \n",
            "_________________________________________________________________\n",
            "batch_normalization_98 (Batc (None, 15, 15, 32)        128       \n",
            "_________________________________________________________________\n",
            "activation_217 (Activation)  (None, 15, 15, 32)        0         \n",
            "_________________________________________________________________\n",
            "conv2d_218 (Conv2D)          (None, 15, 15, 64)        18496     \n",
            "_________________________________________________________________\n",
            "average_pooling2d_217 (Avera (None, 7, 7, 64)          0         \n",
            "_________________________________________________________________\n",
            "batch_normalization_99 (Batc (None, 7, 7, 64)          256       \n",
            "_________________________________________________________________\n",
            "activation_218 (Activation)  (None, 7, 7, 64)          0         \n",
            "_________________________________________________________________\n",
            "conv2d_219 (Conv2D)          (None, 7, 7, 64)          36928     \n",
            "_________________________________________________________________\n",
            "average_pooling2d_218 (Avera (None, 3, 3, 64)          0         \n",
            "_________________________________________________________________\n",
            "batch_normalization_100 (Bat (None, 3, 3, 64)          256       \n",
            "_________________________________________________________________\n",
            "activation_219 (Activation)  (None, 3, 3, 64)          0         \n",
            "_________________________________________________________________\n",
            "flatten_72 (Flatten)         (None, 576)               0         \n",
            "_________________________________________________________________\n",
            "dropout_148 (Dropout)        (None, 576)               0         \n",
            "_________________________________________________________________\n",
            "dense_150 (Dense)            (None, 64)                36928     \n",
            "_________________________________________________________________\n",
            "batch_normalization_101 (Bat (None, 64)                256       \n",
            "_________________________________________________________________\n",
            "dropout_149 (Dropout)        (None, 64)                0         \n",
            "_________________________________________________________________\n",
            "dense_151 (Dense)            (None, 2)                 130       \n",
            "=================================================================\n",
            "Total params: 94,274\n",
            "Trainable params: 93,826\n",
            "Non-trainable params: 448\n",
            "_________________________________________________________________\n"
          ],
          "name": "stdout"
        }
      ]
    },
    {
      "cell_type": "code",
      "metadata": {
        "id": "PHTkGeIWBfuu"
      },
      "source": [
        "train_x = data_xx[:int(0.8*len(data_xx))]\n",
        "train_y = data_y[:int(0.8*len(data_y))]\n",
        "\n",
        "test_x  = data_xx[int(0.8*len(data_xx)):]\n",
        "test_y  = data_y[int(0.8*len(data_x)):]\n",
        "\n",
        "'''\n",
        "def custom_generator(imgfiles,labels,scale=255,target_size=(128,128),shuffle= False,batch_size=32):\n",
        "  i  = 0\n",
        "  length= len(imgfiles)\n",
        "\n",
        "  while (True):\n",
        "    if (i*batch_size >= length):\n",
        "      return None,None\n",
        "    imgs = []\n",
        "    for dir in imgfiles[i*batch_size:(i+1)*batch_size]:\n",
        "      img = cv2.imread(dir)\n",
        "      img = cv2.resize(img,target_size,interpolation = cv2.INTER_CUBIC)\n",
        "      img = img / scale\n",
        "      imgs.append(img)\n",
        "    \n",
        "    imgs  = np.array(imgs)\n",
        "    labels= labels[i*batch_size:(i+1)*batch_size]\n",
        "    yield imgs, keras.utils.to_categorical(labels, num_classes=2)\n",
        "    i +=1\n",
        "'''\n",
        "class CustomDataset(tf.keras.utils.Sequence):\n",
        "  def __init__(self,imgfiles,labels,batch_size,target_size=(64,64),shuffle=False,scale=255,n_classes=2,n_channels=3):\n",
        "    self.batch_size = batch_size\n",
        "    self.dim        = target_size\n",
        "    self.labels     = labels\n",
        "    self.imgfiles   = imgfiles\n",
        "    self.n_classes  = n_classes\n",
        "    self.shuffle    = shuffle\n",
        "    self.n_channels = n_channels\n",
        "    self.scale      = scale\n",
        "\n",
        "    self.c          = 0\n",
        "    self.on_epoch_end()\n",
        "\n",
        "  def __len__(self):\n",
        "    # returns the number of batches\n",
        "    return int(np.floor(len(self.imgfiles) / self.batch_size))\n",
        "\n",
        "  def __getitem__(self, index):\n",
        "    # returns one batch\n",
        "    indexes = self.indexes[index*self.batch_size:(index+1)*self.batch_size]\n",
        "\n",
        "    # Generate data\n",
        "    X, y = self.__data_generation(indexes)\n",
        "    return X, y\n",
        "\n",
        "  def on_epoch_end(self):\n",
        "    self.indexes = np.arange(len(self.imgfiles))\n",
        "    if self.shuffle == True:\n",
        "      np.random.shuffle(self.indexes)\n",
        "  \n",
        "  def __data_generation(self, list_IDs_temp):\n",
        "    X = np.empty((self.batch_size, *self.dim, self.n_channels))\n",
        "    y = np.empty((self.batch_size), dtype=int)\n",
        "\n",
        "    # Generate data\n",
        "    for i, ID in enumerate(list_IDs_temp):\n",
        "        # Store sample\n",
        "        img   = cv2.imread(self.imgfiles[ID])\n",
        "        img   = cv2.resize(img,self.dim,interpolation = cv2.INTER_CUBIC)\n",
        "        \n",
        "        '''\n",
        "        if (self.c %5 ==1):\n",
        "          img   = cv2.flip(img, 0)\n",
        "        elif (self.c %5 ==2):\n",
        "          img   = cv2.rotate(img,cv2.ROTATE_90_CLOCKWISE)\n",
        "        elif (self.c %5 ==3):\n",
        "          img   = cv2.flip(img, -1)\n",
        "        elif (self.c %5 ==4):\n",
        "          img   = cv2.rotate(img,cv2.ROTATE_90_COUNTERCLOCKWISE)\n",
        "        '''  \n",
        "        X[i,] = img / self.scale\n",
        "\n",
        "        # Store class\n",
        "        y[i] = self.labels[ID]\n",
        "\n",
        "        self.c +=1\n",
        "    return X, keras.utils.to_categorical(y, num_classes=self.n_classes)\n",
        "\n",
        "\n",
        "\n",
        "#train_datagen = custom_generator(train_x,train_y)\n",
        "#test_datagen  = custom_generator(test_x,test_y)\n",
        "train_datagen = CustomDataset(train_x,train_y,batch_size=48,shuffle=True)\n",
        "test_datagen  = CustomDataset(test_x,test_y,batch_size=48,shuffle=True)"
      ],
      "execution_count": 485,
      "outputs": []
    },
    {
      "cell_type": "code",
      "metadata": {
        "id": "-yampX4RBxcU"
      },
      "source": [
        "secmodel.compile(\n",
        "    optimizer = 'Adam',\n",
        "    loss = 'CategoricalCrossentropy',\n",
        "    metrics=['AUC']\n",
        ")"
      ],
      "execution_count": 486,
      "outputs": []
    },
    {
      "cell_type": "code",
      "metadata": {
        "id": "5wUkjH-mCC0c",
        "outputId": "d663452a-e8c2-438c-a912-6364297e96f7",
        "colab": {
          "base_uri": "https://localhost:8080/"
        }
      },
      "source": [
        "print(\"Fit second model on training data\")\n",
        "sechistory = secmodel.fit_generator(\n",
        "            train_datagen,\n",
        "            steps_per_epoch=len(train_x)//48,\n",
        "            epochs=20,)"
      ],
      "execution_count": 487,
      "outputs": [
        {
          "output_type": "stream",
          "text": [
            "Fit second model on training data\n",
            "Epoch 1/20\n",
            "23/23 [==============================] - 2s 107ms/step - loss: 1.1850 - auc: 0.5173\n",
            "Epoch 2/20\n",
            "23/23 [==============================] - 3s 109ms/step - loss: 0.9464 - auc: 0.5806\n",
            "Epoch 3/20\n",
            "23/23 [==============================] - 3s 109ms/step - loss: 0.9110 - auc: 0.5789\n",
            "Epoch 4/20\n",
            "23/23 [==============================] - 2s 109ms/step - loss: 0.8487 - auc: 0.6136\n",
            "Epoch 5/20\n",
            "23/23 [==============================] - 3s 110ms/step - loss: 0.7702 - auc: 0.6611\n",
            "Epoch 6/20\n",
            "23/23 [==============================] - 3s 110ms/step - loss: 0.7627 - auc: 0.6493\n",
            "Epoch 7/20\n",
            "23/23 [==============================] - 3s 109ms/step - loss: 0.7484 - auc: 0.6493\n",
            "Epoch 8/20\n",
            "23/23 [==============================] - 3s 110ms/step - loss: 0.6990 - auc: 0.6814\n",
            "Epoch 9/20\n",
            "23/23 [==============================] - 3s 110ms/step - loss: 0.6832 - auc: 0.6903\n",
            "Epoch 10/20\n",
            "23/23 [==============================] - 3s 110ms/step - loss: 0.6760 - auc: 0.6945\n",
            "Epoch 11/20\n",
            "23/23 [==============================] - 3s 111ms/step - loss: 0.6757 - auc: 0.6820\n",
            "Epoch 12/20\n",
            "23/23 [==============================] - 3s 110ms/step - loss: 0.6464 - auc: 0.7143\n",
            "Epoch 13/20\n",
            "23/23 [==============================] - 3s 115ms/step - loss: 0.6590 - auc: 0.6999\n",
            "Epoch 14/20\n",
            "23/23 [==============================] - 3s 113ms/step - loss: 0.6139 - auc: 0.7364\n",
            "Epoch 15/20\n",
            "23/23 [==============================] - 3s 112ms/step - loss: 0.6297 - auc: 0.7245\n",
            "Epoch 16/20\n",
            "23/23 [==============================] - 3s 111ms/step - loss: 0.6243 - auc: 0.7286\n",
            "Epoch 17/20\n",
            "23/23 [==============================] - 3s 110ms/step - loss: 0.6061 - auc: 0.7395\n",
            "Epoch 18/20\n",
            "23/23 [==============================] - 3s 110ms/step - loss: 0.6081 - auc: 0.7419\n",
            "Epoch 19/20\n",
            "23/23 [==============================] - 3s 109ms/step - loss: 0.6043 - auc: 0.7405\n",
            "Epoch 20/20\n",
            "23/23 [==============================] - 3s 110ms/step - loss: 0.5803 - auc: 0.7614\n"
          ],
          "name": "stdout"
        }
      ]
    },
    {
      "cell_type": "code",
      "metadata": {
        "id": "4bmffifTI3ad",
        "outputId": "f9396c1f-c1eb-4f60-8d36-072c13b22506",
        "colab": {
          "base_uri": "https://localhost:8080/"
        }
      },
      "source": [
        "test_datagen  = CustomDataset(test_x,test_y,batch_size=48,shuffle=False)\n",
        "\n",
        "secmodel.evaluate_generator(\n",
        "  test_datagen    \n",
        ")"
      ],
      "execution_count": 488,
      "outputs": [
        {
          "output_type": "execute_result",
          "data": {
            "text/plain": [
              "[0.6267070770263672, 0.7203037738800049]"
            ]
          },
          "metadata": {
            "tags": []
          },
          "execution_count": 488
        }
      ]
    },
    {
      "cell_type": "markdown",
      "metadata": {
        "id": "YmK71TdODmTt"
      },
      "source": [
        "---\n",
        "# Multiple Input Mixed Data Model\n",
        "---\n",
        "\n"
      ]
    },
    {
      "cell_type": "code",
      "metadata": {
        "id": "pGIseeI_XWsD"
      },
      "source": [
        "merge = Concatenate()([model.output,secmodel.output])\n",
        "thirdmodel = Model(inputs=[model.input,secmodel.input], outputs=merge)"
      ],
      "execution_count": 265,
      "outputs": []
    },
    {
      "cell_type": "code",
      "metadata": {
        "id": "S0WKxXe-sy8v"
      },
      "source": [
        "thirdmodel.compile(\n",
        "    optimizer = 'Adam',\n",
        "    loss = 'CategoricalCrossentropy',\n",
        "    metrics=['AUC']\n",
        ")"
      ],
      "execution_count": 266,
      "outputs": []
    },
    {
      "cell_type": "code",
      "metadata": {
        "id": "rsxg9lbPtdax",
        "outputId": "85224f29-f553-47a7-de59-a68abae04bac",
        "colab": {
          "base_uri": "https://localhost:8080/",
          "height": 785
        }
      },
      "source": [
        "thirdmodel.evaluate_generator(\n",
        "  test_datagen    \n",
        ")"
      ],
      "execution_count": 267,
      "outputs": [
        {
          "output_type": "stream",
          "text": [
            "WARNING:tensorflow:Model was constructed with shape (None, 39) for input Tensor(\"dense_63_input:0\", shape=(None, 39), dtype=float32), but it was called on an input with incompatible shape (None, None, None, None).\n"
          ],
          "name": "stdout"
        },
        {
          "output_type": "error",
          "ename": "AssertionError",
          "evalue": "ignored",
          "traceback": [
            "\u001b[0;31m---------------------------------------------------------------------------\u001b[0m",
            "\u001b[0;31mAssertionError\u001b[0m                            Traceback (most recent call last)",
            "\u001b[0;32m<ipython-input-267-9836b2ca7aec>\u001b[0m in \u001b[0;36m<module>\u001b[0;34m()\u001b[0m\n\u001b[1;32m      1\u001b[0m thirdmodel.evaluate_generator(\n\u001b[0;32m----> 2\u001b[0;31m   \u001b[0mtest_datagen\u001b[0m\u001b[0;34m\u001b[0m\u001b[0;34m\u001b[0m\u001b[0m\n\u001b[0m\u001b[1;32m      3\u001b[0m )\n",
            "\u001b[0;32m/usr/local/lib/python3.6/dist-packages/tensorflow/python/util/deprecation.py\u001b[0m in \u001b[0;36mnew_func\u001b[0;34m(*args, **kwargs)\u001b[0m\n\u001b[1;32m    322\u001b[0m               \u001b[0;34m'in a future version'\u001b[0m \u001b[0;32mif\u001b[0m \u001b[0mdate\u001b[0m \u001b[0;32mis\u001b[0m \u001b[0;32mNone\u001b[0m \u001b[0;32melse\u001b[0m \u001b[0;34m(\u001b[0m\u001b[0;34m'after %s'\u001b[0m \u001b[0;34m%\u001b[0m \u001b[0mdate\u001b[0m\u001b[0;34m)\u001b[0m\u001b[0;34m,\u001b[0m\u001b[0;34m\u001b[0m\u001b[0;34m\u001b[0m\u001b[0m\n\u001b[1;32m    323\u001b[0m               instructions)\n\u001b[0;32m--> 324\u001b[0;31m       \u001b[0;32mreturn\u001b[0m \u001b[0mfunc\u001b[0m\u001b[0;34m(\u001b[0m\u001b[0;34m*\u001b[0m\u001b[0margs\u001b[0m\u001b[0;34m,\u001b[0m \u001b[0;34m**\u001b[0m\u001b[0mkwargs\u001b[0m\u001b[0;34m)\u001b[0m\u001b[0;34m\u001b[0m\u001b[0;34m\u001b[0m\u001b[0m\n\u001b[0m\u001b[1;32m    325\u001b[0m     return tf_decorator.make_decorator(\n\u001b[1;32m    326\u001b[0m         \u001b[0mfunc\u001b[0m\u001b[0;34m,\u001b[0m \u001b[0mnew_func\u001b[0m\u001b[0;34m,\u001b[0m \u001b[0;34m'deprecated'\u001b[0m\u001b[0;34m,\u001b[0m\u001b[0;34m\u001b[0m\u001b[0;34m\u001b[0m\u001b[0m\n",
            "\u001b[0;32m/usr/local/lib/python3.6/dist-packages/tensorflow/python/keras/engine/training.py\u001b[0m in \u001b[0;36mevaluate_generator\u001b[0;34m(self, generator, steps, callbacks, max_queue_size, workers, use_multiprocessing, verbose)\u001b[0m\n\u001b[1;32m   1855\u001b[0m         \u001b[0muse_multiprocessing\u001b[0m\u001b[0;34m=\u001b[0m\u001b[0muse_multiprocessing\u001b[0m\u001b[0;34m,\u001b[0m\u001b[0;34m\u001b[0m\u001b[0;34m\u001b[0m\u001b[0m\n\u001b[1;32m   1856\u001b[0m         \u001b[0mverbose\u001b[0m\u001b[0;34m=\u001b[0m\u001b[0mverbose\u001b[0m\u001b[0;34m,\u001b[0m\u001b[0;34m\u001b[0m\u001b[0;34m\u001b[0m\u001b[0m\n\u001b[0;32m-> 1857\u001b[0;31m         callbacks=callbacks)\n\u001b[0m\u001b[1;32m   1858\u001b[0m \u001b[0;34m\u001b[0m\u001b[0m\n\u001b[1;32m   1859\u001b[0m   @deprecation.deprecated(\n",
            "\u001b[0;32m/usr/local/lib/python3.6/dist-packages/tensorflow/python/keras/engine/training.py\u001b[0m in \u001b[0;36m_method_wrapper\u001b[0;34m(self, *args, **kwargs)\u001b[0m\n\u001b[1;32m    106\u001b[0m   \u001b[0;32mdef\u001b[0m \u001b[0m_method_wrapper\u001b[0m\u001b[0;34m(\u001b[0m\u001b[0mself\u001b[0m\u001b[0;34m,\u001b[0m \u001b[0;34m*\u001b[0m\u001b[0margs\u001b[0m\u001b[0;34m,\u001b[0m \u001b[0;34m**\u001b[0m\u001b[0mkwargs\u001b[0m\u001b[0;34m)\u001b[0m\u001b[0;34m:\u001b[0m\u001b[0;34m\u001b[0m\u001b[0;34m\u001b[0m\u001b[0m\n\u001b[1;32m    107\u001b[0m     \u001b[0;32mif\u001b[0m \u001b[0;32mnot\u001b[0m \u001b[0mself\u001b[0m\u001b[0;34m.\u001b[0m\u001b[0m_in_multi_worker_mode\u001b[0m\u001b[0;34m(\u001b[0m\u001b[0;34m)\u001b[0m\u001b[0;34m:\u001b[0m  \u001b[0;31m# pylint: disable=protected-access\u001b[0m\u001b[0;34m\u001b[0m\u001b[0;34m\u001b[0m\u001b[0m\n\u001b[0;32m--> 108\u001b[0;31m       \u001b[0;32mreturn\u001b[0m \u001b[0mmethod\u001b[0m\u001b[0;34m(\u001b[0m\u001b[0mself\u001b[0m\u001b[0;34m,\u001b[0m \u001b[0;34m*\u001b[0m\u001b[0margs\u001b[0m\u001b[0;34m,\u001b[0m \u001b[0;34m**\u001b[0m\u001b[0mkwargs\u001b[0m\u001b[0;34m)\u001b[0m\u001b[0;34m\u001b[0m\u001b[0;34m\u001b[0m\u001b[0m\n\u001b[0m\u001b[1;32m    109\u001b[0m \u001b[0;34m\u001b[0m\u001b[0m\n\u001b[1;32m    110\u001b[0m     \u001b[0;31m# Running inside `run_distribute_coordinator` already.\u001b[0m\u001b[0;34m\u001b[0m\u001b[0;34m\u001b[0m\u001b[0;34m\u001b[0m\u001b[0m\n",
            "\u001b[0;32m/usr/local/lib/python3.6/dist-packages/tensorflow/python/keras/engine/training.py\u001b[0m in \u001b[0;36mevaluate\u001b[0;34m(self, x, y, batch_size, verbose, sample_weight, steps, callbacks, max_queue_size, workers, use_multiprocessing, return_dict)\u001b[0m\n\u001b[1;32m   1377\u001b[0m             \u001b[0;32mwith\u001b[0m \u001b[0mtrace\u001b[0m\u001b[0;34m.\u001b[0m\u001b[0mTrace\u001b[0m\u001b[0;34m(\u001b[0m\u001b[0;34m'TraceContext'\u001b[0m\u001b[0;34m,\u001b[0m \u001b[0mgraph_type\u001b[0m\u001b[0;34m=\u001b[0m\u001b[0;34m'test'\u001b[0m\u001b[0;34m,\u001b[0m \u001b[0mstep_num\u001b[0m\u001b[0;34m=\u001b[0m\u001b[0mstep\u001b[0m\u001b[0;34m)\u001b[0m\u001b[0;34m:\u001b[0m\u001b[0;34m\u001b[0m\u001b[0;34m\u001b[0m\u001b[0m\n\u001b[1;32m   1378\u001b[0m               \u001b[0mcallbacks\u001b[0m\u001b[0;34m.\u001b[0m\u001b[0mon_test_batch_begin\u001b[0m\u001b[0;34m(\u001b[0m\u001b[0mstep\u001b[0m\u001b[0;34m)\u001b[0m\u001b[0;34m\u001b[0m\u001b[0;34m\u001b[0m\u001b[0m\n\u001b[0;32m-> 1379\u001b[0;31m               \u001b[0mtmp_logs\u001b[0m \u001b[0;34m=\u001b[0m \u001b[0mtest_function\u001b[0m\u001b[0;34m(\u001b[0m\u001b[0miterator\u001b[0m\u001b[0;34m)\u001b[0m\u001b[0;34m\u001b[0m\u001b[0;34m\u001b[0m\u001b[0m\n\u001b[0m\u001b[1;32m   1380\u001b[0m               \u001b[0;32mif\u001b[0m \u001b[0mdata_handler\u001b[0m\u001b[0;34m.\u001b[0m\u001b[0mshould_sync\u001b[0m\u001b[0;34m:\u001b[0m\u001b[0;34m\u001b[0m\u001b[0;34m\u001b[0m\u001b[0m\n\u001b[1;32m   1381\u001b[0m                 \u001b[0mcontext\u001b[0m\u001b[0;34m.\u001b[0m\u001b[0masync_wait\u001b[0m\u001b[0;34m(\u001b[0m\u001b[0;34m)\u001b[0m\u001b[0;34m\u001b[0m\u001b[0;34m\u001b[0m\u001b[0m\n",
            "\u001b[0;32m/usr/local/lib/python3.6/dist-packages/tensorflow/python/eager/def_function.py\u001b[0m in \u001b[0;36m__call__\u001b[0;34m(self, *args, **kwds)\u001b[0m\n\u001b[1;32m    778\u001b[0m       \u001b[0;32melse\u001b[0m\u001b[0;34m:\u001b[0m\u001b[0;34m\u001b[0m\u001b[0;34m\u001b[0m\u001b[0m\n\u001b[1;32m    779\u001b[0m         \u001b[0mcompiler\u001b[0m \u001b[0;34m=\u001b[0m \u001b[0;34m\"nonXla\"\u001b[0m\u001b[0;34m\u001b[0m\u001b[0;34m\u001b[0m\u001b[0m\n\u001b[0;32m--> 780\u001b[0;31m         \u001b[0mresult\u001b[0m \u001b[0;34m=\u001b[0m \u001b[0mself\u001b[0m\u001b[0;34m.\u001b[0m\u001b[0m_call\u001b[0m\u001b[0;34m(\u001b[0m\u001b[0;34m*\u001b[0m\u001b[0margs\u001b[0m\u001b[0;34m,\u001b[0m \u001b[0;34m**\u001b[0m\u001b[0mkwds\u001b[0m\u001b[0;34m)\u001b[0m\u001b[0;34m\u001b[0m\u001b[0;34m\u001b[0m\u001b[0m\n\u001b[0m\u001b[1;32m    781\u001b[0m \u001b[0;34m\u001b[0m\u001b[0m\n\u001b[1;32m    782\u001b[0m       \u001b[0mnew_tracing_count\u001b[0m \u001b[0;34m=\u001b[0m \u001b[0mself\u001b[0m\u001b[0;34m.\u001b[0m\u001b[0m_get_tracing_count\u001b[0m\u001b[0;34m(\u001b[0m\u001b[0;34m)\u001b[0m\u001b[0;34m\u001b[0m\u001b[0;34m\u001b[0m\u001b[0m\n",
            "\u001b[0;32m/usr/local/lib/python3.6/dist-packages/tensorflow/python/eager/def_function.py\u001b[0m in \u001b[0;36m_call\u001b[0;34m(self, *args, **kwds)\u001b[0m\n\u001b[1;32m    821\u001b[0m       \u001b[0;31m# This is the first call of __call__, so we have to initialize.\u001b[0m\u001b[0;34m\u001b[0m\u001b[0;34m\u001b[0m\u001b[0;34m\u001b[0m\u001b[0m\n\u001b[1;32m    822\u001b[0m       \u001b[0minitializers\u001b[0m \u001b[0;34m=\u001b[0m \u001b[0;34m[\u001b[0m\u001b[0;34m]\u001b[0m\u001b[0;34m\u001b[0m\u001b[0;34m\u001b[0m\u001b[0m\n\u001b[0;32m--> 823\u001b[0;31m       \u001b[0mself\u001b[0m\u001b[0;34m.\u001b[0m\u001b[0m_initialize\u001b[0m\u001b[0;34m(\u001b[0m\u001b[0margs\u001b[0m\u001b[0;34m,\u001b[0m \u001b[0mkwds\u001b[0m\u001b[0;34m,\u001b[0m \u001b[0madd_initializers_to\u001b[0m\u001b[0;34m=\u001b[0m\u001b[0minitializers\u001b[0m\u001b[0;34m)\u001b[0m\u001b[0;34m\u001b[0m\u001b[0;34m\u001b[0m\u001b[0m\n\u001b[0m\u001b[1;32m    824\u001b[0m     \u001b[0;32mfinally\u001b[0m\u001b[0;34m:\u001b[0m\u001b[0;34m\u001b[0m\u001b[0;34m\u001b[0m\u001b[0m\n\u001b[1;32m    825\u001b[0m       \u001b[0;31m# At this point we know that the initialization is complete (or less\u001b[0m\u001b[0;34m\u001b[0m\u001b[0;34m\u001b[0m\u001b[0;34m\u001b[0m\u001b[0m\n",
            "\u001b[0;32m/usr/local/lib/python3.6/dist-packages/tensorflow/python/eager/def_function.py\u001b[0m in \u001b[0;36m_initialize\u001b[0;34m(self, args, kwds, add_initializers_to)\u001b[0m\n\u001b[1;32m    695\u001b[0m     self._concrete_stateful_fn = (\n\u001b[1;32m    696\u001b[0m         self._stateful_fn._get_concrete_function_internal_garbage_collected(  # pylint: disable=protected-access\n\u001b[0;32m--> 697\u001b[0;31m             *args, **kwds))\n\u001b[0m\u001b[1;32m    698\u001b[0m \u001b[0;34m\u001b[0m\u001b[0m\n\u001b[1;32m    699\u001b[0m     \u001b[0;32mdef\u001b[0m \u001b[0minvalid_creator_scope\u001b[0m\u001b[0;34m(\u001b[0m\u001b[0;34m*\u001b[0m\u001b[0munused_args\u001b[0m\u001b[0;34m,\u001b[0m \u001b[0;34m**\u001b[0m\u001b[0munused_kwds\u001b[0m\u001b[0;34m)\u001b[0m\u001b[0;34m:\u001b[0m\u001b[0;34m\u001b[0m\u001b[0;34m\u001b[0m\u001b[0m\n",
            "\u001b[0;32m/usr/local/lib/python3.6/dist-packages/tensorflow/python/eager/function.py\u001b[0m in \u001b[0;36m_get_concrete_function_internal_garbage_collected\u001b[0;34m(self, *args, **kwargs)\u001b[0m\n\u001b[1;32m   2853\u001b[0m       \u001b[0margs\u001b[0m\u001b[0;34m,\u001b[0m \u001b[0mkwargs\u001b[0m \u001b[0;34m=\u001b[0m \u001b[0;32mNone\u001b[0m\u001b[0;34m,\u001b[0m \u001b[0;32mNone\u001b[0m\u001b[0;34m\u001b[0m\u001b[0;34m\u001b[0m\u001b[0m\n\u001b[1;32m   2854\u001b[0m     \u001b[0;32mwith\u001b[0m \u001b[0mself\u001b[0m\u001b[0;34m.\u001b[0m\u001b[0m_lock\u001b[0m\u001b[0;34m:\u001b[0m\u001b[0;34m\u001b[0m\u001b[0;34m\u001b[0m\u001b[0m\n\u001b[0;32m-> 2855\u001b[0;31m       \u001b[0mgraph_function\u001b[0m\u001b[0;34m,\u001b[0m \u001b[0m_\u001b[0m\u001b[0;34m,\u001b[0m \u001b[0m_\u001b[0m \u001b[0;34m=\u001b[0m \u001b[0mself\u001b[0m\u001b[0;34m.\u001b[0m\u001b[0m_maybe_define_function\u001b[0m\u001b[0;34m(\u001b[0m\u001b[0margs\u001b[0m\u001b[0;34m,\u001b[0m \u001b[0mkwargs\u001b[0m\u001b[0;34m)\u001b[0m\u001b[0;34m\u001b[0m\u001b[0;34m\u001b[0m\u001b[0m\n\u001b[0m\u001b[1;32m   2856\u001b[0m     \u001b[0;32mreturn\u001b[0m \u001b[0mgraph_function\u001b[0m\u001b[0;34m\u001b[0m\u001b[0;34m\u001b[0m\u001b[0m\n\u001b[1;32m   2857\u001b[0m \u001b[0;34m\u001b[0m\u001b[0m\n",
            "\u001b[0;32m/usr/local/lib/python3.6/dist-packages/tensorflow/python/eager/function.py\u001b[0m in \u001b[0;36m_maybe_define_function\u001b[0;34m(self, args, kwargs)\u001b[0m\n\u001b[1;32m   3211\u001b[0m \u001b[0;34m\u001b[0m\u001b[0m\n\u001b[1;32m   3212\u001b[0m       \u001b[0mself\u001b[0m\u001b[0;34m.\u001b[0m\u001b[0m_function_cache\u001b[0m\u001b[0;34m.\u001b[0m\u001b[0mmissed\u001b[0m\u001b[0;34m.\u001b[0m\u001b[0madd\u001b[0m\u001b[0;34m(\u001b[0m\u001b[0mcall_context_key\u001b[0m\u001b[0;34m)\u001b[0m\u001b[0;34m\u001b[0m\u001b[0;34m\u001b[0m\u001b[0m\n\u001b[0;32m-> 3213\u001b[0;31m       \u001b[0mgraph_function\u001b[0m \u001b[0;34m=\u001b[0m \u001b[0mself\u001b[0m\u001b[0;34m.\u001b[0m\u001b[0m_create_graph_function\u001b[0m\u001b[0;34m(\u001b[0m\u001b[0margs\u001b[0m\u001b[0;34m,\u001b[0m \u001b[0mkwargs\u001b[0m\u001b[0;34m)\u001b[0m\u001b[0;34m\u001b[0m\u001b[0;34m\u001b[0m\u001b[0m\n\u001b[0m\u001b[1;32m   3214\u001b[0m       \u001b[0mself\u001b[0m\u001b[0;34m.\u001b[0m\u001b[0m_function_cache\u001b[0m\u001b[0;34m.\u001b[0m\u001b[0mprimary\u001b[0m\u001b[0;34m[\u001b[0m\u001b[0mcache_key\u001b[0m\u001b[0;34m]\u001b[0m \u001b[0;34m=\u001b[0m \u001b[0mgraph_function\u001b[0m\u001b[0;34m\u001b[0m\u001b[0;34m\u001b[0m\u001b[0m\n\u001b[1;32m   3215\u001b[0m       \u001b[0;32mreturn\u001b[0m \u001b[0mgraph_function\u001b[0m\u001b[0;34m,\u001b[0m \u001b[0margs\u001b[0m\u001b[0;34m,\u001b[0m \u001b[0mkwargs\u001b[0m\u001b[0;34m\u001b[0m\u001b[0;34m\u001b[0m\u001b[0m\n",
            "\u001b[0;32m/usr/local/lib/python3.6/dist-packages/tensorflow/python/eager/function.py\u001b[0m in \u001b[0;36m_create_graph_function\u001b[0;34m(self, args, kwargs, override_flat_arg_shapes)\u001b[0m\n\u001b[1;32m   3073\u001b[0m             \u001b[0marg_names\u001b[0m\u001b[0;34m=\u001b[0m\u001b[0marg_names\u001b[0m\u001b[0;34m,\u001b[0m\u001b[0;34m\u001b[0m\u001b[0;34m\u001b[0m\u001b[0m\n\u001b[1;32m   3074\u001b[0m             \u001b[0moverride_flat_arg_shapes\u001b[0m\u001b[0;34m=\u001b[0m\u001b[0moverride_flat_arg_shapes\u001b[0m\u001b[0;34m,\u001b[0m\u001b[0;34m\u001b[0m\u001b[0;34m\u001b[0m\u001b[0m\n\u001b[0;32m-> 3075\u001b[0;31m             capture_by_value=self._capture_by_value),\n\u001b[0m\u001b[1;32m   3076\u001b[0m         \u001b[0mself\u001b[0m\u001b[0;34m.\u001b[0m\u001b[0m_function_attributes\u001b[0m\u001b[0;34m,\u001b[0m\u001b[0;34m\u001b[0m\u001b[0;34m\u001b[0m\u001b[0m\n\u001b[1;32m   3077\u001b[0m         \u001b[0mfunction_spec\u001b[0m\u001b[0;34m=\u001b[0m\u001b[0mself\u001b[0m\u001b[0;34m.\u001b[0m\u001b[0mfunction_spec\u001b[0m\u001b[0;34m,\u001b[0m\u001b[0;34m\u001b[0m\u001b[0;34m\u001b[0m\u001b[0m\n",
            "\u001b[0;32m/usr/local/lib/python3.6/dist-packages/tensorflow/python/framework/func_graph.py\u001b[0m in \u001b[0;36mfunc_graph_from_py_func\u001b[0;34m(name, python_func, args, kwargs, signature, func_graph, autograph, autograph_options, add_control_dependencies, arg_names, op_return_value, collections, capture_by_value, override_flat_arg_shapes)\u001b[0m\n\u001b[1;32m    984\u001b[0m         \u001b[0m_\u001b[0m\u001b[0;34m,\u001b[0m \u001b[0moriginal_func\u001b[0m \u001b[0;34m=\u001b[0m \u001b[0mtf_decorator\u001b[0m\u001b[0;34m.\u001b[0m\u001b[0munwrap\u001b[0m\u001b[0;34m(\u001b[0m\u001b[0mpython_func\u001b[0m\u001b[0;34m)\u001b[0m\u001b[0;34m\u001b[0m\u001b[0;34m\u001b[0m\u001b[0m\n\u001b[1;32m    985\u001b[0m \u001b[0;34m\u001b[0m\u001b[0m\n\u001b[0;32m--> 986\u001b[0;31m       \u001b[0mfunc_outputs\u001b[0m \u001b[0;34m=\u001b[0m \u001b[0mpython_func\u001b[0m\u001b[0;34m(\u001b[0m\u001b[0;34m*\u001b[0m\u001b[0mfunc_args\u001b[0m\u001b[0;34m,\u001b[0m \u001b[0;34m**\u001b[0m\u001b[0mfunc_kwargs\u001b[0m\u001b[0;34m)\u001b[0m\u001b[0;34m\u001b[0m\u001b[0;34m\u001b[0m\u001b[0m\n\u001b[0m\u001b[1;32m    987\u001b[0m \u001b[0;34m\u001b[0m\u001b[0m\n\u001b[1;32m    988\u001b[0m       \u001b[0;31m# invariant: `func_outputs` contains only Tensors, CompositeTensors,\u001b[0m\u001b[0;34m\u001b[0m\u001b[0;34m\u001b[0m\u001b[0;34m\u001b[0m\u001b[0m\n",
            "\u001b[0;32m/usr/local/lib/python3.6/dist-packages/tensorflow/python/eager/def_function.py\u001b[0m in \u001b[0;36mwrapped_fn\u001b[0;34m(*args, **kwds)\u001b[0m\n\u001b[1;32m    598\u001b[0m         \u001b[0;31m# __wrapped__ allows AutoGraph to swap in a converted function. We give\u001b[0m\u001b[0;34m\u001b[0m\u001b[0;34m\u001b[0m\u001b[0;34m\u001b[0m\u001b[0m\n\u001b[1;32m    599\u001b[0m         \u001b[0;31m# the function a weak reference to itself to avoid a reference cycle.\u001b[0m\u001b[0;34m\u001b[0m\u001b[0;34m\u001b[0m\u001b[0;34m\u001b[0m\u001b[0m\n\u001b[0;32m--> 600\u001b[0;31m         \u001b[0;32mreturn\u001b[0m \u001b[0mweak_wrapped_fn\u001b[0m\u001b[0;34m(\u001b[0m\u001b[0;34m)\u001b[0m\u001b[0;34m.\u001b[0m\u001b[0m__wrapped__\u001b[0m\u001b[0;34m(\u001b[0m\u001b[0;34m*\u001b[0m\u001b[0margs\u001b[0m\u001b[0;34m,\u001b[0m \u001b[0;34m**\u001b[0m\u001b[0mkwds\u001b[0m\u001b[0;34m)\u001b[0m\u001b[0;34m\u001b[0m\u001b[0;34m\u001b[0m\u001b[0m\n\u001b[0m\u001b[1;32m    601\u001b[0m     \u001b[0mweak_wrapped_fn\u001b[0m \u001b[0;34m=\u001b[0m \u001b[0mweakref\u001b[0m\u001b[0;34m.\u001b[0m\u001b[0mref\u001b[0m\u001b[0;34m(\u001b[0m\u001b[0mwrapped_fn\u001b[0m\u001b[0;34m)\u001b[0m\u001b[0;34m\u001b[0m\u001b[0;34m\u001b[0m\u001b[0m\n\u001b[1;32m    602\u001b[0m \u001b[0;34m\u001b[0m\u001b[0m\n",
            "\u001b[0;32m/usr/local/lib/python3.6/dist-packages/tensorflow/python/framework/func_graph.py\u001b[0m in \u001b[0;36mwrapper\u001b[0;34m(*args, **kwargs)\u001b[0m\n\u001b[1;32m    971\u001b[0m           \u001b[0;32mexcept\u001b[0m \u001b[0mException\u001b[0m \u001b[0;32mas\u001b[0m \u001b[0me\u001b[0m\u001b[0;34m:\u001b[0m  \u001b[0;31m# pylint:disable=broad-except\u001b[0m\u001b[0;34m\u001b[0m\u001b[0;34m\u001b[0m\u001b[0m\n\u001b[1;32m    972\u001b[0m             \u001b[0;32mif\u001b[0m \u001b[0mhasattr\u001b[0m\u001b[0;34m(\u001b[0m\u001b[0me\u001b[0m\u001b[0;34m,\u001b[0m \u001b[0;34m\"ag_error_metadata\"\u001b[0m\u001b[0;34m)\u001b[0m\u001b[0;34m:\u001b[0m\u001b[0;34m\u001b[0m\u001b[0;34m\u001b[0m\u001b[0m\n\u001b[0;32m--> 973\u001b[0;31m               \u001b[0;32mraise\u001b[0m \u001b[0me\u001b[0m\u001b[0;34m.\u001b[0m\u001b[0mag_error_metadata\u001b[0m\u001b[0;34m.\u001b[0m\u001b[0mto_exception\u001b[0m\u001b[0;34m(\u001b[0m\u001b[0me\u001b[0m\u001b[0;34m)\u001b[0m\u001b[0;34m\u001b[0m\u001b[0;34m\u001b[0m\u001b[0m\n\u001b[0m\u001b[1;32m    974\u001b[0m             \u001b[0;32melse\u001b[0m\u001b[0;34m:\u001b[0m\u001b[0;34m\u001b[0m\u001b[0;34m\u001b[0m\u001b[0m\n\u001b[1;32m    975\u001b[0m               \u001b[0;32mraise\u001b[0m\u001b[0;34m\u001b[0m\u001b[0;34m\u001b[0m\u001b[0m\n",
            "\u001b[0;31mAssertionError\u001b[0m: in user code:\n\n    /usr/local/lib/python3.6/dist-packages/tensorflow/python/keras/engine/training.py:1224 test_function  *\n        return step_function(self, iterator)\n    /usr/local/lib/python3.6/dist-packages/tensorflow/python/keras/engine/training.py:1215 step_function  **\n        outputs = model.distribute_strategy.run(run_step, args=(data,))\n    /usr/local/lib/python3.6/dist-packages/tensorflow/python/distribute/distribute_lib.py:1211 run\n        return self._extended.call_for_each_replica(fn, args=args, kwargs=kwargs)\n    /usr/local/lib/python3.6/dist-packages/tensorflow/python/distribute/distribute_lib.py:2585 call_for_each_replica\n        return self._call_for_each_replica(fn, args, kwargs)\n    /usr/local/lib/python3.6/dist-packages/tensorflow/python/distribute/distribute_lib.py:2945 _call_for_each_replica\n        return fn(*args, **kwargs)\n    /usr/local/lib/python3.6/dist-packages/tensorflow/python/keras/engine/training.py:1208 run_step  **\n        outputs = model.test_step(data)\n    /usr/local/lib/python3.6/dist-packages/tensorflow/python/keras/engine/training.py:1174 test_step\n        y_pred = self(x, training=False)\n    /usr/local/lib/python3.6/dist-packages/tensorflow/python/keras/engine/base_layer.py:985 __call__\n        outputs = call_fn(inputs, *args, **kwargs)\n    /usr/local/lib/python3.6/dist-packages/tensorflow/python/keras/engine/functional.py:386 call\n        inputs, training=training, mask=mask)\n    /usr/local/lib/python3.6/dist-packages/tensorflow/python/keras/engine/functional.py:517 _run_internal_graph\n        assert x_id in tensor_dict, 'Could not compute output ' + str(x)\n\n    AssertionError: Could not compute output Tensor(\"concatenate_2/concat:0\", shape=(None, 4), dtype=float32)\n"
          ]
        }
      ]
    },
    {
      "cell_type": "code",
      "metadata": {
        "id": "mDMAUNFrtg6R"
      },
      "source": [
        ""
      ],
      "execution_count": null,
      "outputs": []
    }
  ]
}